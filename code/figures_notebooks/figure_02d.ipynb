{
 "cells": [
  {
   "cell_type": "code",
   "execution_count": 1,
   "metadata": {},
   "outputs": [
    {
     "data": {
      "text/html": [
       "<style>.container { width:100% !important; }</style>"
      ],
      "text/plain": [
       "<IPython.core.display.HTML object>"
      ]
     },
     "metadata": {},
     "output_type": "display_data"
    }
   ],
   "source": [
    "## Pre-setting\n",
    "# automatically adjust the width of the notebook code cell\n",
    "from IPython.core.display import display, HTML\n",
    "display(HTML(\"<style>.container { width:100% !important; }</style>\"))\n",
    "\n",
    "# if one module is changed, this line will automatically reload that module\n",
    "%load_ext autoreload\n",
    "%autoreload 2\n",
    "\n",
    "# display the figure in the notebook\n",
    "%matplotlib inline\n",
    "\n",
    "# To change the font size in acrobat\n",
    "import matplotlib as mpl\n",
    "mpl.rcParams['pdf.fonttype'] = 42"
   ]
  },
  {
   "cell_type": "code",
   "execution_count": 2,
   "metadata": {},
   "outputs": [],
   "source": [
    "## Add path\n",
    "import os\n",
    "import sys\n",
    "src_dir = os.path.abspath(os.path.join(os.pardir, 'src'))\n",
    "if src_dir not in sys.path:\n",
    "    sys.path.insert(0, src_dir)\n",
    "from filter_words import make_stopwords_filter\n",
    "\n",
    "# src_dir"
   ]
  },
  {
   "cell_type": "code",
   "execution_count": 3,
   "metadata": {
    "collapsed": true
   },
   "outputs": [],
   "source": [
    "## System package\n",
    "\n",
    "import matplotlib.pyplot as plt\n",
    "import json\n",
    "import numpy as np\n",
    "import pandas as pd\n",
    "import timeit\n",
    "from scipy import stats\n",
    "from collections import Counter"
   ]
  },
  {
   "cell_type": "code",
   "execution_count": null,
   "metadata": {
    "collapsed": true
   },
   "outputs": [],
   "source": []
  },
  {
   "cell_type": "markdown",
   "metadata": {},
   "source": [
    "# Get data"
   ]
  },
  {
   "cell_type": "markdown",
   "metadata": {},
   "source": [
    "## read data"
   ]
  },
  {
   "cell_type": "code",
   "execution_count": 4,
   "metadata": {
    "collapsed": true
   },
   "outputs": [
    {
     "data": {
      "text/html": [
       "<div>\n",
       "<style scoped>\n",
       "    .dataframe tbody tr th:only-of-type {\n",
       "        vertical-align: middle;\n",
       "    }\n",
       "\n",
       "    .dataframe tbody tr th {\n",
       "        vertical-align: top;\n",
       "    }\n",
       "\n",
       "    .dataframe thead th {\n",
       "        text-align: right;\n",
       "    }\n",
       "</style>\n",
       "<table border=\"1\" class=\"dataframe\">\n",
       "  <thead>\n",
       "    <tr style=\"text-align: right;\">\n",
       "      <th></th>\n",
       "      <th>F</th>\n",
       "      <th>I</th>\n",
       "      <th>tfidf</th>\n",
       "      <th>manual</th>\n",
       "      <th>H</th>\n",
       "      <th>H-tilde</th>\n",
       "      <th>H-tilde_std</th>\n",
       "      <th>N</th>\n",
       "    </tr>\n",
       "  </thead>\n",
       "  <tbody>\n",
       "    <tr>\n",
       "      <th>aaa</th>\n",
       "      <td>2.140121e-05</td>\n",
       "      <td>0.897519</td>\n",
       "      <td>9.084176</td>\n",
       "      <td>NaN</td>\n",
       "      <td>5.439733</td>\n",
       "      <td>6.337252</td>\n",
       "      <td>0.022193</td>\n",
       "      <td>82</td>\n",
       "    </tr>\n",
       "    <tr>\n",
       "      <th>aaaa</th>\n",
       "      <td>5.219807e-07</td>\n",
       "      <td>1.000000</td>\n",
       "      <td>19.683543</td>\n",
       "      <td>NaN</td>\n",
       "      <td>0.000000</td>\n",
       "      <td>1.000000</td>\n",
       "      <td>0.000000</td>\n",
       "      <td>2</td>\n",
       "    </tr>\n",
       "    <tr>\n",
       "      <th>aaaaa</th>\n",
       "      <td>1.304952e-06</td>\n",
       "      <td>-0.000800</td>\n",
       "      <td>8.232334</td>\n",
       "      <td>NaN</td>\n",
       "      <td>2.321928</td>\n",
       "      <td>2.321128</td>\n",
       "      <td>0.017871</td>\n",
       "      <td>5</td>\n",
       "    </tr>\n",
       "    <tr>\n",
       "      <th>aaaaaaaaaaaa</th>\n",
       "      <td>2.609904e-07</td>\n",
       "      <td>0.000000</td>\n",
       "      <td>9.841772</td>\n",
       "      <td>NaN</td>\n",
       "      <td>0.000000</td>\n",
       "      <td>0.000000</td>\n",
       "      <td>0.000000</td>\n",
       "      <td>1</td>\n",
       "    </tr>\n",
       "    <tr>\n",
       "      <th>aaaaaaaaaaaaaaaaaaaaaaaaaaaaaaauuuuuuuuuuuuuuuuuuuuuuuuuuuuuuuugggggggggggggggg</th>\n",
       "      <td>7.829711e-07</td>\n",
       "      <td>-0.000667</td>\n",
       "      <td>8.743159</td>\n",
       "      <td>NaN</td>\n",
       "      <td>1.584963</td>\n",
       "      <td>1.584296</td>\n",
       "      <td>0.021071</td>\n",
       "      <td>3</td>\n",
       "    </tr>\n",
       "  </tbody>\n",
       "</table>\n",
       "</div>"
      ],
      "text/plain": [
       "                                                               F         I  \\\n",
       "aaa                                                 2.140121e-05  0.897519   \n",
       "aaaa                                                5.219807e-07  1.000000   \n",
       "aaaaa                                               1.304952e-06 -0.000800   \n",
       "aaaaaaaaaaaa                                        2.609904e-07  0.000000   \n",
       "aaaaaaaaaaaaaaaaaaaaaaaaaaaaaaauuuuuuuuuuuuuuuu...  7.829711e-07 -0.000667   \n",
       "\n",
       "                                                        tfidf  manual  \\\n",
       "aaa                                                  9.084176     NaN   \n",
       "aaaa                                                19.683543     NaN   \n",
       "aaaaa                                                8.232334     NaN   \n",
       "aaaaaaaaaaaa                                         9.841772     NaN   \n",
       "aaaaaaaaaaaaaaaaaaaaaaaaaaaaaaauuuuuuuuuuuuuuuu...   8.743159     NaN   \n",
       "\n",
       "                                                           H   H-tilde  \\\n",
       "aaa                                                 5.439733  6.337252   \n",
       "aaaa                                                0.000000  1.000000   \n",
       "aaaaa                                               2.321928  2.321128   \n",
       "aaaaaaaaaaaa                                        0.000000  0.000000   \n",
       "aaaaaaaaaaaaaaaaaaaaaaaaaaaaaaauuuuuuuuuuuuuuuu...  1.584963  1.584296   \n",
       "\n",
       "                                                    H-tilde_std   N  \n",
       "aaa                                                    0.022193  82  \n",
       "aaaa                                                   0.000000   2  \n",
       "aaaaa                                                  0.017871   5  \n",
       "aaaaaaaaaaaa                                           0.000000   1  \n",
       "aaaaaaaaaaaaaaaaaaaaaaaaaaaaaaauuuuuuuuuuuuuuuu...     0.021071   3  "
      ]
     },
     "execution_count": 4,
     "metadata": {},
     "output_type": "execute_result"
    }
   ],
   "source": [
    "N_s = 1000\n",
    "\n",
    "corpus_name = 't20NewsGroup_topic_doc_no_short'\n",
    "plot_data_en_folder_file_path = os.path.abspath(os.path.join(os.pardir,  'output', '%s_stopword-statistics_Ns%s.csv'%(corpus_name,N_s)))\n",
    "df = pd.read_csv(plot_data_en_folder_file_path,index_col=0,na_filter = False)\n",
    "df['manual']=df['manual'].replace(to_replace='',value=np.nan).replace(to_replace='1.0',value=1.0)\n",
    "df.head()"
   ]
  },
  {
   "cell_type": "markdown",
   "metadata": {},
   "source": [
    "## set up binning"
   ]
  },
  {
   "cell_type": "code",
   "execution_count": 5,
   "metadata": {
    "collapsed": true
   },
   "outputs": [
    {
     "name": "stdout",
     "output_type": "stream",
     "text": [
      "1 239094\n"
     ]
    },
    {
     "data": {
      "text/plain": [
       "(array([1.e+00, 1.e+01, 1.e+02, 1.e+03, 1.e+04, 1.e+05]), 6)"
      ]
     },
     "execution_count": 5,
     "metadata": {},
     "output_type": "execute_result"
    }
   ],
   "source": [
    "max_freq = df['N'].max()\n",
    "min_freq = df['N'].min()\n",
    "\n",
    "print(min_freq,max_freq)\n",
    "\n",
    "base_set = 10\n",
    "bin_start = int(np.log(min_freq * .9)/ np.log(base_set)) \n",
    "bin_end = int(np.log(max_freq * 1.1)/ np.log(base_set)) \n",
    "bin_num = bin_end - bin_start + 1\n",
    "\n",
    "bin_list = np.logspace(bin_start, bin_end, num = bin_num, base=base_set)\n",
    "bin_list, bin_num"
   ]
  },
  {
   "cell_type": "markdown",
   "metadata": {},
   "source": [
    "## Get all words with their cutoffs and counts"
   ]
  },
  {
   "cell_type": "code",
   "execution_count": 6,
   "metadata": {},
   "outputs": [],
   "source": [
    "list_S = ['INFOR','TFIDF','MANUAL','BOTTOM','TOP']\n",
    "list_cutoff = [('t',0.1),('t',9),('n',len(df)),('t',5),('n',1000)]\n",
    "list_p_w_bin = []\n",
    "\n",
    "N_w_bin_all,edges = np.histogram(df['N'],bins=bin_list,)\n",
    "\n",
    "\n",
    "for i_S, str_S in enumerate(list_S):\n",
    "    method = str_S\n",
    "    cutoff_type_val =  list_cutoff[i_S]\n",
    "    cutoff_type = cutoff_type_val[0]\n",
    "    cutoff_val = cutoff_type_val[1] \n",
    "    df_filter = make_stopwords_filter(df,method=method,cutoff_type=cutoff_type,cutoff_val = cutoff_val)\n",
    "    N_sel = np.array(df['N'].loc[df_filter.index])\n",
    "    \n",
    "    \n",
    "    N_w_bin_tmp,edges = np.histogram(N_sel,bins=bin_list,)\n",
    "    p_w_bin_tmp = N_w_bin_tmp/N_w_bin_all\n",
    "    list_p_w_bin += [p_w_bin_tmp]"
   ]
  },
  {
   "cell_type": "code",
   "execution_count": null,
   "metadata": {},
   "outputs": [],
   "source": []
  },
  {
   "cell_type": "code",
   "execution_count": null,
   "metadata": {},
   "outputs": [],
   "source": []
  },
  {
   "cell_type": "code",
   "execution_count": 7,
   "metadata": {},
   "outputs": [
    {
     "name": "stderr",
     "output_type": "stream",
     "text": [
      "/home/martin/anaconda3/lib/python3.7/site-packages/matplotlib/__init__.py:846: MatplotlibDeprecationWarning: \n",
      "The text.latex.unicode rcparam was deprecated in Matplotlib 2.2 and will be removed in 3.1.\n",
      "  \"2.2\", name=key, obj_type=\"rcparam\", addendum=addendum)\n"
     ]
    }
   ],
   "source": [
    "###########\n",
    "## Setup ##\n",
    "###########\n",
    "# number of pt for column in latex-document\n",
    "fig_width_pt = 510/2  # single-column:510, double-column: 246; Get this from LaTeX using \\showthe\\columnwidth\n",
    "inches_per_pt = 1.1/72.27 # Convert pt to inches\n",
    "width_vs_height = (np.sqrt(5)-1.0)/2#(np.sqrt(5)-1.0)/2.0 # Ratio of height/width [(np.sqrt(5)-1.0)/2.0]\n",
    "fig_width = fig_width_pt*inches_per_pt  # width in inches\n",
    "fig_height = width_vs_height*fig_width  # height in inches\n",
    "fig_size = [fig_width,fig_height]\n",
    "\n",
    "# here you can set the parameters of the plot (fontsizes,...) in pt\n",
    "params = {'backend': 'ps',\n",
    "          'axes.titlesize':12,\n",
    "          'axes.labelsize': 10,\n",
    "          'font.size': 8,\n",
    "          'legend.fontsize': 6,\n",
    "#           'figtext.fontsize': 12,\n",
    "          'xtick.labelsize': 10,\n",
    "          'ytick.labelsize': 10,\n",
    "          \n",
    "          'text.usetex': True,\n",
    "          'ps.usedistiller' : 'xpdf',\n",
    "          'figure.figsize': fig_size,\n",
    "          'text.latex.unicode':True,\n",
    "          'text.latex.preamble': [r'\\usepackage{bm}'],\n",
    "          \n",
    "          'xtick.direction':'out',\n",
    "          'ytick.direction':'out',\n",
    "          \n",
    "          'axes.spines.right' : False,\n",
    "          'axes.spines.top' : False\n",
    "         }\n",
    "plt.rcParams.update(params)\n",
    "\n",
    "set_b = 0.22 # set bottom\n",
    "set_l = 0.1 # set left\n",
    "set_r = 0.925 # set right\n",
    "set_hs = 0.2 # set horizontal space\n",
    "set_vs = 0.25 # set vertical space\n",
    "\n",
    "set_ms = 0.0 # set marker size\n",
    "set_lw = 2.5 # set line width\n",
    "set_alpha = 0.8"
   ]
  },
  {
   "cell_type": "code",
   "execution_count": 8,
   "metadata": {},
   "outputs": [
    {
     "data": {
      "image/png": "[encoded data removed]",
      "text/plain": [
       "<Figure size 279.452x172.711 with 1 Axes>"
      ]
     },
     "metadata": {
      "needs_background": "light"
     },
     "output_type": "display_data"
    }
   ],
   "source": [
    "cmap = 'tab10'\n",
    "ccolors = plt.get_cmap(cmap)(np.arange(10, dtype=int))\n",
    "\n",
    "\n",
    "color_dict = {\n",
    "    'INFOR': plt.get_cmap('tab20c')(0), \n",
    "    'TFIDF': plt.get_cmap('tab20c')(8),  \n",
    "    'MANUAL': plt.get_cmap('tab20c')(4),  \n",
    "    'TOP': plt.get_cmap('tab20b')(10), \n",
    "    'BOTTOM': plt.get_cmap('tab20b')(11), \n",
    "#     'Rand': ccolors[7], \n",
    "}\n",
    "\n",
    "\n",
    "\n",
    "x_label_list = [ r'$10^{%s}$'%(int(np.log10(h))) for h in  bin_list]\n",
    "\n",
    "fig, ax = plt.subplots( figsize=fig_size)\n",
    "# cmap = 'Accent'\n",
    "# ccolors = plt.get_cmap(cmap)(np.arange(8, dtype=int))\n",
    "\n",
    "\n",
    "width=1/8\n",
    "fix_shift = width/2\n",
    "\n",
    "\n",
    "for i_S, str_S in enumerate(list_S):\n",
    "    y = list_p_w_bin[i_S]\n",
    "    x = np.arange(len(bin_list[:-1]))\n",
    "\n",
    "#     tmp_stop_name_label = tmp_stop_name\n",
    "#     if tmp_stop_name == 'Mallet':\n",
    "#         tmp_stop_name_label = 'Manual'\n",
    "        \n",
    "#     if tmp_stop_name == 'Rand':\n",
    "#         p_rand = 0.31524318\n",
    "#         ax.plot([0,5],[p_rand,p_rand],ls=':',color='black')\n",
    "#         print(tmp_stop_p_array)\n",
    "#     else:\n",
    "    ax.bar(x + fix_shift + width * (i_S+1), y, width=width, color=color_dict[str_S], label=list_S[i_S] )\n",
    "    \n",
    "\n",
    "\n",
    "ax.set_xticks(np.arange(len(bin_list)))\n",
    "ax.set_xticklabels(x_label_list, visible=1)\n",
    "\n",
    "ax.set_xlabel('Word frequency $n(w)$')\n",
    "ax.set_ylabel('Fractoin of stopwords')\n",
    "ax.set_yscale('log')\n",
    "# ax.legend(loc='upper center',frameon=False, ncol=3,)\n",
    "ax.legend(frameon=False, ncol=1,bbox_to_anchor=(1,1))\n",
    "\n",
    "ax.set_ylim(0.9*10**(-3),1)\n",
    "\n",
    "x_annot = -0.2\n",
    "y_annot = 1.05\n",
    "ax.annotate(r'\\textbf{D}',xy=(x_annot,y_annot),xycoords = 'axes fraction')\n",
    "\n",
    "\n",
    "plt.subplots_adjust(wspace=.2,hspace=0.4,right=0.8)\n",
    "\n",
    "fig_name = 'figure_02_d.svg' \n",
    "tmp_folder_file_full_path = os.path.join(os.pardir,'figures', fig_name)\n",
    "fig.savefig(tmp_folder_file_full_path, bbox_inches='tight', transparent=1, dpi=300)"
   ]
  },
  {
   "cell_type": "code",
   "execution_count": null,
   "metadata": {
    "collapsed": true
   },
   "outputs": [],
   "source": []
  }
 ],
 "metadata": {
  "kernelspec": {
   "display_name": "Python 3",
   "language": "python",
   "name": "python3"
  },
  "language_info": {
   "codemirror_mode": {
    "name": "ipython",
    "version": 3
   },
   "file_extension": ".py",
   "mimetype": "text/x-python",
   "name": "python",
   "nbconvert_exporter": "python",
   "pygments_lexer": "ipython3",
   "version": "3.7.3"
  }
 },
 "nbformat": 4,
 "nbformat_minor": 2
}
