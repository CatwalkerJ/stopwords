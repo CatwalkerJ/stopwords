{
 "cells": [
  {
   "cell_type": "code",
   "execution_count": 2,
   "metadata": {},
   "outputs": [
    {
     "data": {
      "text/html": [
       "<style>.container { width:100% !important; }</style>"
      ],
      "text/plain": [
       "<IPython.core.display.HTML object>"
      ]
     },
     "metadata": {},
     "output_type": "display_data"
    }
   ],
   "source": [
    "## Pre-setting\n",
    "# automatically adjust the width of the notebook code cell\n",
    "from IPython.core.display import display, HTML\n",
    "display(HTML(\"<style>.container { width:100% !important; }</style>\"))\n",
    "\n",
    "# if one module is changed, this line will automatically reload that module\n",
    "%load_ext autoreload\n",
    "%autoreload 2\n",
    "\n",
    "# display the figure in the notebook\n",
    "%matplotlib inline\n",
    "\n",
    "# To change the font size in acrobat\n",
    "import matplotlib as mpl\n",
    "mpl.rcParams['pdf.fonttype'] = 42"
   ]
  },
  {
   "cell_type": "code",
   "execution_count": 3,
   "metadata": {},
   "outputs": [],
   "source": [
    "## Add path\n",
    "import os\n",
    "import sys\n",
    "# src_dir = os.path.abspath(os.path.join(os.pardir,  'src'))\n",
    "# if src_dir not in sys.path:\n",
    "#     sys.path.insert(0, src_dir)\n",
    "    \n",
    "# src_dir"
   ]
  },
  {
   "cell_type": "code",
   "execution_count": 4,
   "metadata": {
    "collapsed": true
   },
   "outputs": [],
   "source": [
    "import numpy as np\n",
    "import pandas as pd\n",
    "import matplotlib.pyplot as plt"
   ]
  },
  {
   "cell_type": "code",
   "execution_count": 6,
   "metadata": {},
   "outputs": [
    {
     "name": "stderr",
     "output_type": "stream",
     "text": [
      "/home/martin/anaconda3/lib/python3.7/site-packages/matplotlib/__init__.py:846: MatplotlibDeprecationWarning: \n",
      "The text.latex.unicode rcparam was deprecated in Matplotlib 2.2 and will be removed in 3.1.\n",
      "  \"2.2\", name=key, obj_type=\"rcparam\", addendum=addendum)\n"
     ]
    }
   ],
   "source": [
    "###########\n",
    "## Setup ##\n",
    "###########\n",
    "# number of pt for column in latex-document\n",
    "fig_width_pt = 510/2  # single-column:510, double-column: 246; Get this from LaTeX using \\showthe\\columnwidth\n",
    "inches_per_pt = 1.1/72.27 # Convert pt to inches\n",
    "width_vs_height = (np.sqrt(5)-1.0)/1.75#(np.sqrt(5)-1.0)/2.0 # Ratio of height/width [(np.sqrt(5)-1.0)/2.0]\n",
    "fig_width = fig_width_pt*inches_per_pt  # width in inches\n",
    "fig_height = width_vs_height*fig_width  # height in inches\n",
    "fig_size = [fig_width,fig_height]\n",
    "\n",
    "# here you can set the parameters of the plot (fontsizes,...) in pt\n",
    "params = {'backend': 'ps',\n",
    "          'axes.titlesize':8,\n",
    "          'axes.labelsize': 10,\n",
    "#           'text.fontsize': 10,\n",
    "          'legend.fontsize': 10,\n",
    "#           'figtext.fontsize': 12,\n",
    "          'xtick.labelsize': 10,\n",
    "          'ytick.labelsize': 10,\n",
    "          \n",
    "          'text.usetex': True,\n",
    "          'ps.usedistiller' : 'xpdf',\n",
    "          'figure.figsize': fig_size,\n",
    "          'text.latex.unicode':True,\n",
    "          'text.latex.preamble': [r'\\usepackage{bm}'],\n",
    "          \n",
    "          'xtick.direction':'out',\n",
    "          'ytick.direction':'out',\n",
    "          \n",
    "          'axes.spines.right' : False,\n",
    "          'axes.spines.top' : False\n",
    "         }\n",
    "plt.rcParams.update(params)\n",
    "\n",
    "set_b = 0.22 # set bottom\n",
    "set_l = 0.1 # set left\n",
    "set_r = 0.925 # set right\n",
    "set_hs = 0.2 # set horizontal space\n",
    "set_vs = 0.25 # set vertical space\n",
    "\n",
    "set_ms = 0.0 # set marker size\n",
    "set_lw = 2.5 # set line width\n",
    "set_alpha = 0.8"
   ]
  },
  {
   "cell_type": "code",
   "execution_count": 7,
   "metadata": {
    "collapsed": true
   },
   "outputs": [],
   "source": [
    "cmap = 'tab10'\n",
    "ccolors = plt.get_cmap(cmap)(np.arange(10, dtype=int))\n",
    "\n",
    "set_blue = ccolors[0]\n",
    "set_orange = ccolors[1]\n",
    "set_green = ccolors[2]\n",
    "set_gray = ccolors[7]"
   ]
  },
  {
   "cell_type": "code",
   "execution_count": 8,
   "metadata": {},
   "outputs": [
    {
     "data": {
      "text/plain": [
       "(array([0.12156863, 0.46666667, 0.70588235, 1.        ]),\n",
       " array([1.        , 0.49803922, 0.05490196, 1.        ]),\n",
       " array([0.17254902, 0.62745098, 0.17254902, 1.        ]),\n",
       " array([0.49803922, 0.49803922, 0.49803922, 1.        ]))"
      ]
     },
     "execution_count": 8,
     "metadata": {},
     "output_type": "execute_result"
    }
   ],
   "source": [
    "set_blue, set_orange, set_green, set_gray"
   ]
  },
  {
   "cell_type": "code",
   "execution_count": null,
   "metadata": {
    "collapsed": true
   },
   "outputs": [],
   "source": []
  },
  {
   "cell_type": "markdown",
   "metadata": {},
   "source": [
    "## get all data"
   ]
  },
  {
   "cell_type": "code",
   "execution_count": 10,
   "metadata": {
    "collapsed": true
   },
   "outputs": [],
   "source": [
    "N_s = 1000\n",
    "\n",
    "corpus_name = 't20NewsGroup_topic_doc_no_short'\n",
    "plot_data_en_folder_file_path = os.path.abspath(os.path.join(os.pardir,  'output', '%s_stopword-statistics_Ns%s.csv'%(corpus_name,N_s)))\n",
    "all_df_en = pd.read_csv(plot_data_en_folder_file_path,index_col=0)\n",
    "all_df_en['word_type'] = all_df_en.index\n"
   ]
  },
  {
   "cell_type": "code",
   "execution_count": 12,
   "metadata": {},
   "outputs": [],
   "source": [
    "# all_df_en.head()"
   ]
  },
  {
   "cell_type": "markdown",
   "metadata": {},
   "source": [
    "## some processing"
   ]
  },
  {
   "cell_type": "code",
   "execution_count": 13,
   "metadata": {},
   "outputs": [
    {
     "name": "stderr",
     "output_type": "stream",
     "text": [
      "/home/martin/anaconda3/lib/python3.7/site-packages/ipykernel_launcher.py:6: RuntimeWarning: divide by zero encountered in log10\n",
      "  \n"
     ]
    }
   ],
   "source": [
    "x_data_array = all_df_en['N'].values\n",
    "y_data_array = all_df_en['I'].values\n",
    "\n",
    "log10_x_data_array = np.log10(x_data_array)\n",
    "heatmap, xedges, yedges = np.histogram2d(log10_x_data_array, y_data_array, bins=50)\n",
    "heatmap_log = np.log10(heatmap)\n",
    "extent = [xedges[0], xedges[-1], yedges[0], yedges[-1]]"
   ]
  },
  {
   "cell_type": "markdown",
   "metadata": {},
   "source": [
    "## plot in one"
   ]
  },
  {
   "cell_type": "code",
   "execution_count": 14,
   "metadata": {
    "collapsed": true
   },
   "outputs": [],
   "source": [
    "set_x_min = -.5\n",
    "set_x_max = 5.5\n",
    "set_y_min = -1\n",
    "set_y_max = 7\n",
    "\n"
   ]
  },
  {
   "cell_type": "code",
   "execution_count": 15,
   "metadata": {},
   "outputs": [
    {
     "name": "stderr",
     "output_type": "stream",
     "text": [
      "/home/martin/anaconda3/lib/python3.7/site-packages/ipykernel_launcher.py:19: UserWarning: Attempted to set non-positive bottom ylim on a log-scaled axis.\n",
      "Invalid limit will be ignored.\n"
     ]
    },
    {
     "data": {
      "image/png": "[encoded data removed]",
      "text/plain": [
       "<Figure size 279.452x197.384 with 4 Axes>"
      ]
     },
     "metadata": {
      "needs_background": "light"
     },
     "output_type": "display_data"
    }
   ],
   "source": [
    "# plt.close('all')\n",
    "fig = plt.figure(figsize=fig_size)\n",
    "\n",
    "ax1 = plt.subplot2grid((3, 3), (0, 0), colspan=2, rowspan=1)\n",
    "ax2 = plt.subplot2grid((3, 3), (1, 0), colspan=2, rowspan=2)\n",
    "ax3 = plt.subplot2grid((3, 3), (1, 2), colspan=1, rowspan=2)\n",
    "\n",
    "\n",
    "t= np.arange(1000)/100.\n",
    "x = np.sin(np.pi**t)\n",
    "y = np.cos(np.pi**t)\n",
    "z = np.cos(0.1*np.pi**t)\n",
    "\n",
    "\n",
    "## subplot 1\n",
    "bin_1 = 30\n",
    "ax1.hist(log10_x_data_array, bin_1, histtype='step')\n",
    "ax1.set_yscale(\"log\")\n",
    "ax1.set_ylim(-100, 60000)\n",
    "ax1.set_xlim(set_x_min, set_x_max)\n",
    "ax1.set_xticks([0, 1, 2, 3, 4, 5])\n",
    "ax1.set_xticklabels([])\n",
    "ax1.set_yticks([10**0,10**2,10**4])\n",
    "\n",
    "ax1.set_ylabel('Count')\n",
    "\n",
    "## subplot 2\n",
    "cax = ax2.imshow(heatmap_log.T, extent=extent, origin='lower', cmap='gnuplot2_r', aspect=\"auto\")\n",
    "ax2.set_ylim(set_y_min, set_y_max)\n",
    "ax2.set_ylabel('Information $I(w)$')\n",
    "ax2.set_xlabel('Word frequency $n(w)$')\n",
    "ax2.set_xlim(set_x_min, set_x_max)\n",
    "ax2.set_xticks([0, 1, 2, 3, 4, 5])\n",
    "ax2.set_xticklabels(['$10^0$', '$10^1$', '$10^2$', '$10^3$', '$10^4$', '$10^5$',])\n",
    "ax2.set_yticks([0,2,4,6])\n",
    "\n",
    "\n",
    "# cbar_ax = fig.add_axes([0.85, 0.15, 0.05, 0.7])\n",
    "cbar = fig.colorbar(cax, ticks=[0, 1, 2, 3, 4])\n",
    "cbar.ax.set_yticklabels(['$10^0$', '$10^1$','$10^2$','$10^3$','$10^4$'])  # horizontal colorbar\n",
    "cbar.set_clim(-1.0, 6.0)\n",
    "\n",
    "## subplot 3\n",
    "bin_3 = 30\n",
    "ax3.hist(y_data_array, bin_3,orientation='horizontal', histtype='step' )\n",
    "ax3.set_xscale(\"log\")\n",
    "\n",
    "ax3.set_xticks([10**0,10**2,10**4])\n",
    "\n",
    "ax3.set_ylim(set_y_min, set_y_max)\n",
    "ax3.set_yticklabels([])\n",
    "ax3.set_xlabel('Count')\n",
    "\n",
    "###########\n",
    "# end\n",
    "###########\n",
    "\n",
    "x_annot = -0.3\n",
    "y_annot = 1.05\n",
    "ax1.annotate(r'\\textbf{A}',xy=(x_annot,y_annot),xycoords = 'axes fraction')\n",
    "\n",
    "# fig.patch.set_alpha(1.)\n",
    "# ax1.patch.set_alpha(0.)\n",
    "\n",
    "plt.subplots_adjust(wspace=.2, hspace=0.3)\n",
    "\n",
    "plt.show()\n",
    "plt.close()\n",
    "\n",
    "fig_name = 'figure_02_a.svg' \n",
    "tmp_folder_file_full_path = os.path.join(os.pardir,'figures', fig_name)\n",
    "fig.savefig(tmp_folder_file_full_path, bbox_inches='tight', transparent=1, dpi=300)\n"
   ]
  },
  {
   "cell_type": "code",
   "execution_count": null,
   "metadata": {
    "collapsed": true
   },
   "outputs": [],
   "source": []
  }
 ],
 "metadata": {
  "kernelspec": {
   "display_name": "Python 3",
   "language": "python",
   "name": "python3"
  },
  "language_info": {
   "codemirror_mode": {
    "name": "ipython",
    "version": 3
   },
   "file_extension": ".py",
   "mimetype": "text/x-python",
   "name": "python",
   "nbconvert_exporter": "python",
   "pygments_lexer": "ipython3",
   "version": "3.7.3"
  }
 },
 "nbformat": 4,
 "nbformat_minor": 2
}
