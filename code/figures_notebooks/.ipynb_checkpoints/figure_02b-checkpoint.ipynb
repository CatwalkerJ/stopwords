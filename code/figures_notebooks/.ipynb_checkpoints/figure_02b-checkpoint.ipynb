{
 "cells": [
  {
   "cell_type": "code",
   "execution_count": 1,
   "metadata": {},
   "outputs": [
    {
     "data": {
      "text/html": [
       "<style>.container { width:100% !important; }</style>"
      ],
      "text/plain": [
       "<IPython.core.display.HTML object>"
      ]
     },
     "metadata": {},
     "output_type": "display_data"
    }
   ],
   "source": [
    "## Pre-setting\n",
    "# automatically adjust the width of the notebook code cell\n",
    "from IPython.core.display import display, HTML\n",
    "display(HTML(\"<style>.container { width:100% !important; }</style>\"))\n",
    "\n",
    "# if one module is changed, this line will automatically reload that module\n",
    "%load_ext autoreload\n",
    "%autoreload 2\n",
    "\n",
    "# display the figure in the notebook\n",
    "%matplotlib inline\n",
    "\n",
    "# To change the font size in acrobat\n",
    "import matplotlib as mpl\n",
    "mpl.rcParams['pdf.fonttype'] = 42"
   ]
  },
  {
   "cell_type": "code",
   "execution_count": 2,
   "metadata": {},
   "outputs": [],
   "source": [
    "## Add path\n",
    "import os\n",
    "import sys\n",
    "# src_dir = os.path.abspath(os.path.join(os.pardir,  'src'))\n",
    "# if src_dir not in sys.path:\n",
    "#     sys.path.insert(0, src_dir)\n",
    "    \n",
    "# src_dir"
   ]
  },
  {
   "cell_type": "code",
   "execution_count": 3,
   "metadata": {},
   "outputs": [
    {
     "name": "stderr",
     "output_type": "stream",
     "text": [
      "/home/martin/anaconda3/lib/python3.7/site-packages/mpl_toolkits/axes_grid/__init__.py:12: MatplotlibDeprecationWarning: \n",
      "The mpl_toolkits.axes_grid module was deprecated in Matplotlib 2.1 and will be removed two minor releases later. Use mpl_toolkits.axes_grid1 and mpl_toolkits.axisartist, which provide the same functionality instead.\n",
      "  obj_type='module')\n"
     ]
    }
   ],
   "source": [
    "import numpy as np\n",
    "import pandas as pd\n",
    "import matplotlib.pyplot as plt\n",
    "from mpl_toolkits.axes_grid.inset_locator import inset_axes"
   ]
  },
  {
   "cell_type": "code",
   "execution_count": 4,
   "metadata": {},
   "outputs": [
    {
     "name": "stderr",
     "output_type": "stream",
     "text": [
      "/home/martin/anaconda3/lib/python3.7/site-packages/matplotlib/__init__.py:846: MatplotlibDeprecationWarning: \n",
      "The text.latex.unicode rcparam was deprecated in Matplotlib 2.2 and will be removed in 3.1.\n",
      "  \"2.2\", name=key, obj_type=\"rcparam\", addendum=addendum)\n"
     ]
    }
   ],
   "source": [
    "###########\n",
    "## Setup ##\n",
    "###########\n",
    "# number of pt for column in latex-document\n",
    "fig_width_pt = 510/2  # single-column:510, double-column: 246; Get this from LaTeX using \\showthe\\columnwidth\n",
    "inches_per_pt = 1.1/72.27 # Convert pt to inches\n",
    "width_vs_height = (np.sqrt(5)-1.0)/1.75#(np.sqrt(5)-1.0)/2.0 # Ratio of height/width [(np.sqrt(5)-1.0)/2.0]\n",
    "fig_width = fig_width_pt*inches_per_pt  # width in inches\n",
    "fig_height = width_vs_height*fig_width  # height in inches\n",
    "fig_size = [fig_width,fig_height]\n",
    "\n",
    "# here you can set the parameters of the plot (fontsizes,...) in pt\n",
    "params = {'backend': 'ps',\n",
    "          'axes.titlesize':8,\n",
    "          'axes.labelsize': 10,\n",
    "#           'text.fontsize': 10,\n",
    "          'legend.fontsize': 10,\n",
    "#           'figtext.fontsize': 12,\n",
    "          'xtick.labelsize': 10,\n",
    "          'ytick.labelsize': 10,\n",
    "          \n",
    "          'text.usetex': True,\n",
    "          'ps.usedistiller' : 'xpdf',\n",
    "          'figure.figsize': fig_size,\n",
    "          'text.latex.unicode':True,\n",
    "          'text.latex.preamble': [r'\\usepackage{bm}'],\n",
    "          \n",
    "          'xtick.direction':'out',\n",
    "          'ytick.direction':'out',\n",
    "          \n",
    "          'axes.spines.right' : False,\n",
    "          'axes.spines.top' : False\n",
    "         }\n",
    "plt.rcParams.update(params)\n",
    "\n",
    "set_b = 0.22 # set bottom\n",
    "set_l = 0.1 # set left\n",
    "set_r = 0.925 # set right\n",
    "set_hs = 0.2 # set horizontal space\n",
    "set_vs = 0.25 # set vertical space\n",
    "\n",
    "set_ms = 0.0 # set marker size\n",
    "set_lw = 2.5 # set line width\n",
    "set_alpha = 0.8"
   ]
  },
  {
   "cell_type": "code",
   "execution_count": 5,
   "metadata": {
    "collapsed": true
   },
   "outputs": [],
   "source": [
    "cmap = 'tab10'\n",
    "ccolors = plt.get_cmap(cmap)(np.arange(10, dtype=int))\n",
    "\n",
    "set_blue = ccolors[0]\n",
    "set_orange = ccolors[1]\n",
    "set_green = ccolors[2]\n",
    "set_gray = ccolors[7]"
   ]
  },
  {
   "cell_type": "code",
   "execution_count": 6,
   "metadata": {},
   "outputs": [
    {
     "data": {
      "text/plain": [
       "(array([0.12156863, 0.46666667, 0.70588235, 1.        ]),\n",
       " array([1.        , 0.49803922, 0.05490196, 1.        ]),\n",
       " array([0.17254902, 0.62745098, 0.17254902, 1.        ]),\n",
       " array([0.49803922, 0.49803922, 0.49803922, 1.        ]))"
      ]
     },
     "execution_count": 6,
     "metadata": {},
     "output_type": "execute_result"
    }
   ],
   "source": [
    "set_blue, set_orange, set_green, set_gray"
   ]
  },
  {
   "cell_type": "code",
   "execution_count": 7,
   "metadata": {
    "collapsed": true
   },
   "outputs": [],
   "source": [
    "# sum(all_df_en['word_count'])"
   ]
  },
  {
   "cell_type": "code",
   "execution_count": 8,
   "metadata": {
    "collapsed": true
   },
   "outputs": [],
   "source": [
    "# all_df_en.head()"
   ]
  },
  {
   "cell_type": "markdown",
   "metadata": {},
   "source": [
    "## get all data"
   ]
  },
  {
   "cell_type": "code",
   "execution_count": 9,
   "metadata": {
    "collapsed": true
   },
   "outputs": [
    {
     "data": {
      "text/html": [
       "<div>\n",
       "<style scoped>\n",
       "    .dataframe tbody tr th:only-of-type {\n",
       "        vertical-align: middle;\n",
       "    }\n",
       "\n",
       "    .dataframe tbody tr th {\n",
       "        vertical-align: top;\n",
       "    }\n",
       "\n",
       "    .dataframe thead th {\n",
       "        text-align: right;\n",
       "    }\n",
       "</style>\n",
       "<table border=\"1\" class=\"dataframe\">\n",
       "  <thead>\n",
       "    <tr style=\"text-align: right;\">\n",
       "      <th></th>\n",
       "      <th>F</th>\n",
       "      <th>I</th>\n",
       "      <th>tfidf</th>\n",
       "      <th>manual</th>\n",
       "      <th>H</th>\n",
       "      <th>H-tilde</th>\n",
       "      <th>H-tilde_std</th>\n",
       "      <th>N</th>\n",
       "      <th>word_type</th>\n",
       "    </tr>\n",
       "  </thead>\n",
       "  <tbody>\n",
       "    <tr>\n",
       "      <th>aaa</th>\n",
       "      <td>2.140121e-05</td>\n",
       "      <td>0.897519</td>\n",
       "      <td>9.084176</td>\n",
       "      <td>NaN</td>\n",
       "      <td>5.439733</td>\n",
       "      <td>6.337252</td>\n",
       "      <td>0.022193</td>\n",
       "      <td>82</td>\n",
       "      <td>aaa</td>\n",
       "    </tr>\n",
       "    <tr>\n",
       "      <th>aaaa</th>\n",
       "      <td>5.219807e-07</td>\n",
       "      <td>1.000000</td>\n",
       "      <td>19.683543</td>\n",
       "      <td>NaN</td>\n",
       "      <td>0.000000</td>\n",
       "      <td>1.000000</td>\n",
       "      <td>0.000000</td>\n",
       "      <td>2</td>\n",
       "      <td>aaaa</td>\n",
       "    </tr>\n",
       "    <tr>\n",
       "      <th>aaaaa</th>\n",
       "      <td>1.304952e-06</td>\n",
       "      <td>-0.000800</td>\n",
       "      <td>8.232334</td>\n",
       "      <td>NaN</td>\n",
       "      <td>2.321928</td>\n",
       "      <td>2.321128</td>\n",
       "      <td>0.017871</td>\n",
       "      <td>5</td>\n",
       "      <td>aaaaa</td>\n",
       "    </tr>\n",
       "    <tr>\n",
       "      <th>aaaaaaaaaaaa</th>\n",
       "      <td>2.609904e-07</td>\n",
       "      <td>0.000000</td>\n",
       "      <td>9.841772</td>\n",
       "      <td>NaN</td>\n",
       "      <td>0.000000</td>\n",
       "      <td>0.000000</td>\n",
       "      <td>0.000000</td>\n",
       "      <td>1</td>\n",
       "      <td>aaaaaaaaaaaa</td>\n",
       "    </tr>\n",
       "    <tr>\n",
       "      <th>aaaaaaaaaaaaaaaaaaaaaaaaaaaaaaauuuuuuuuuuuuuuuuuuuuuuuuuuuuuuuugggggggggggggggg</th>\n",
       "      <td>7.829711e-07</td>\n",
       "      <td>-0.000667</td>\n",
       "      <td>8.743159</td>\n",
       "      <td>NaN</td>\n",
       "      <td>1.584963</td>\n",
       "      <td>1.584296</td>\n",
       "      <td>0.021071</td>\n",
       "      <td>3</td>\n",
       "      <td>aaaaaaaaaaaaaaaaaaaaaaaaaaaaaaauuuuuuuuuuuuuuu...</td>\n",
       "    </tr>\n",
       "  </tbody>\n",
       "</table>\n",
       "</div>"
      ],
      "text/plain": [
       "                                                               F         I  \\\n",
       "aaa                                                 2.140121e-05  0.897519   \n",
       "aaaa                                                5.219807e-07  1.000000   \n",
       "aaaaa                                               1.304952e-06 -0.000800   \n",
       "aaaaaaaaaaaa                                        2.609904e-07  0.000000   \n",
       "aaaaaaaaaaaaaaaaaaaaaaaaaaaaaaauuuuuuuuuuuuuuuu...  7.829711e-07 -0.000667   \n",
       "\n",
       "                                                        tfidf  manual  \\\n",
       "aaa                                                  9.084176     NaN   \n",
       "aaaa                                                19.683543     NaN   \n",
       "aaaaa                                                8.232334     NaN   \n",
       "aaaaaaaaaaaa                                         9.841772     NaN   \n",
       "aaaaaaaaaaaaaaaaaaaaaaaaaaaaaaauuuuuuuuuuuuuuuu...   8.743159     NaN   \n",
       "\n",
       "                                                           H   H-tilde  \\\n",
       "aaa                                                 5.439733  6.337252   \n",
       "aaaa                                                0.000000  1.000000   \n",
       "aaaaa                                               2.321928  2.321128   \n",
       "aaaaaaaaaaaa                                        0.000000  0.000000   \n",
       "aaaaaaaaaaaaaaaaaaaaaaaaaaaaaaauuuuuuuuuuuuuuuu...  1.584963  1.584296   \n",
       "\n",
       "                                                    H-tilde_std   N  \\\n",
       "aaa                                                    0.022193  82   \n",
       "aaaa                                                   0.000000   2   \n",
       "aaaaa                                                  0.017871   5   \n",
       "aaaaaaaaaaaa                                           0.000000   1   \n",
       "aaaaaaaaaaaaaaaaaaaaaaaaaaaaaaauuuuuuuuuuuuuuuu...     0.021071   3   \n",
       "\n",
       "                                                                                            word_type  \n",
       "aaa                                                                                               aaa  \n",
       "aaaa                                                                                             aaaa  \n",
       "aaaaa                                                                                           aaaaa  \n",
       "aaaaaaaaaaaa                                                                             aaaaaaaaaaaa  \n",
       "aaaaaaaaaaaaaaaaaaaaaaaaaaaaaaauuuuuuuuuuuuuuuu...  aaaaaaaaaaaaaaaaaaaaaaaaaaaaaaauuuuuuuuuuuuuuu...  "
      ]
     },
     "execution_count": 9,
     "metadata": {},
     "output_type": "execute_result"
    }
   ],
   "source": [
    "N_s = 1000\n",
    "\n",
    "corpus_name = 't20NewsGroup_topic_doc_no_short'\n",
    "plot_data_en_folder_file_path = os.path.abspath(os.path.join(os.pardir,  'output', '%s_stopword-statistics_Ns%s.csv'%(corpus_name,N_s)))\n",
    "all_df_en = pd.read_csv(plot_data_en_folder_file_path,index_col=0)\n",
    "all_df_en['word_type'] = all_df_en.index\n",
    "all_df_en.head()"
   ]
  },
  {
   "cell_type": "code",
   "execution_count": 17,
   "metadata": {
    "collapsed": true
   },
   "outputs": [],
   "source": [
    "all_df_en = all_df_en.sort_values(by='I', ascending=1)\n",
    "info_array = all_df_en['I']\n",
    "word_freq_array = all_df_en['F']"
   ]
  },
  {
   "cell_type": "code",
   "execution_count": 18,
   "metadata": {},
   "outputs": [
    {
     "data": {
      "text/plain": [
       "(93172, 93172)"
      ]
     },
     "execution_count": 18,
     "metadata": {},
     "output_type": "execute_result"
    }
   ],
   "source": [
    "len(info_array), len(word_freq_array)"
   ]
  },
  {
   "cell_type": "code",
   "execution_count": 19,
   "metadata": {
    "scrolled": true
   },
   "outputs": [
    {
     "data": {
      "text/plain": [
       "(writes        -0.747269\n",
       " article       -0.616735\n",
       " thanks        -0.379332\n",
       " apr           -0.321739\n",
       " anyone        -0.308224\n",
       " appreciated   -0.126641\n",
       " advance       -0.116809\n",
       " wrote         -0.110427\n",
       " edu           -0.109167\n",
       " just          -0.102282\n",
       " Name: I, dtype: float64, writes         0.003482\n",
       " article        0.002995\n",
       " thanks         0.000773\n",
       " apr            0.001261\n",
       " anyone         0.001097\n",
       " appreciated    0.000175\n",
       " advance        0.000221\n",
       " wrote          0.000413\n",
       " edu            0.005416\n",
       " just           0.002443\n",
       " Name: F, dtype: float64)"
      ]
     },
     "execution_count": 19,
     "metadata": {},
     "output_type": "execute_result"
    }
   ],
   "source": [
    "info_array[:10], word_freq_array[:10], "
   ]
  },
  {
   "cell_type": "code",
   "execution_count": 20,
   "metadata": {
    "collapsed": true
   },
   "outputs": [],
   "source": [
    "x_I_array = np.linspace(info_array.min()-.0001, info_array.max()+.0001, 5000)\n"
   ]
  },
  {
   "cell_type": "code",
   "execution_count": 21,
   "metadata": {},
   "outputs": [
    {
     "ename": "KeyboardInterrupt",
     "evalue": "",
     "output_type": "error",
     "traceback": [
      "\u001b[0;31m---------------------------------------------------------------------------\u001b[0m",
      "\u001b[0;31mKeyboardInterrupt\u001b[0m                         Traceback (most recent call last)",
      "\u001b[0;32m<timed exec>\u001b[0m in \u001b[0;36m<module>\u001b[0;34m\u001b[0m\n",
      "\u001b[0;32m~/anaconda3/lib/python3.7/site-packages/pandas/core/series.py\u001b[0m in \u001b[0;36m__getitem__\u001b[0;34m(self, key)\u001b[0m\n\u001b[1;32m    909\u001b[0m             \u001b[0mkey\u001b[0m \u001b[0;34m=\u001b[0m \u001b[0mcheck_bool_indexer\u001b[0m\u001b[0;34m(\u001b[0m\u001b[0mself\u001b[0m\u001b[0;34m.\u001b[0m\u001b[0mindex\u001b[0m\u001b[0;34m,\u001b[0m \u001b[0mkey\u001b[0m\u001b[0;34m)\u001b[0m\u001b[0;34m\u001b[0m\u001b[0;34m\u001b[0m\u001b[0m\n\u001b[1;32m    910\u001b[0m \u001b[0;34m\u001b[0m\u001b[0m\n\u001b[0;32m--> 911\u001b[0;31m         \u001b[0;32mreturn\u001b[0m \u001b[0mself\u001b[0m\u001b[0;34m.\u001b[0m\u001b[0m_get_with\u001b[0m\u001b[0;34m(\u001b[0m\u001b[0mkey\u001b[0m\u001b[0;34m)\u001b[0m\u001b[0;34m\u001b[0m\u001b[0;34m\u001b[0m\u001b[0m\n\u001b[0m\u001b[1;32m    912\u001b[0m \u001b[0;34m\u001b[0m\u001b[0m\n\u001b[1;32m    913\u001b[0m     \u001b[0;32mdef\u001b[0m \u001b[0m_get_with\u001b[0m\u001b[0;34m(\u001b[0m\u001b[0mself\u001b[0m\u001b[0;34m,\u001b[0m \u001b[0mkey\u001b[0m\u001b[0;34m)\u001b[0m\u001b[0;34m:\u001b[0m\u001b[0;34m\u001b[0m\u001b[0;34m\u001b[0m\u001b[0m\n",
      "\u001b[0;32m~/anaconda3/lib/python3.7/site-packages/pandas/core/series.py\u001b[0m in \u001b[0;36m_get_with\u001b[0;34m(self, key)\u001b[0m\n\u001b[1;32m    944\u001b[0m                 \u001b[0;32mreturn\u001b[0m \u001b[0mself\u001b[0m\u001b[0;34m.\u001b[0m\u001b[0m_get_values\u001b[0m\u001b[0;34m(\u001b[0m\u001b[0mkey\u001b[0m\u001b[0;34m)\u001b[0m\u001b[0;34m\u001b[0m\u001b[0;34m\u001b[0m\u001b[0m\n\u001b[1;32m    945\u001b[0m         \u001b[0;32melif\u001b[0m \u001b[0mkey_type\u001b[0m \u001b[0;34m==\u001b[0m \u001b[0;34m'boolean'\u001b[0m\u001b[0;34m:\u001b[0m\u001b[0;34m\u001b[0m\u001b[0;34m\u001b[0m\u001b[0m\n\u001b[0;32m--> 946\u001b[0;31m             \u001b[0;32mreturn\u001b[0m \u001b[0mself\u001b[0m\u001b[0;34m.\u001b[0m\u001b[0m_get_values\u001b[0m\u001b[0;34m(\u001b[0m\u001b[0mkey\u001b[0m\u001b[0;34m)\u001b[0m\u001b[0;34m\u001b[0m\u001b[0;34m\u001b[0m\u001b[0m\n\u001b[0m\u001b[1;32m    947\u001b[0m \u001b[0;34m\u001b[0m\u001b[0m\n\u001b[1;32m    948\u001b[0m         \u001b[0;32mtry\u001b[0m\u001b[0;34m:\u001b[0m\u001b[0;34m\u001b[0m\u001b[0;34m\u001b[0m\u001b[0m\n",
      "\u001b[0;32m~/anaconda3/lib/python3.7/site-packages/pandas/core/series.py\u001b[0m in \u001b[0;36m_get_values\u001b[0;34m(self, indexer)\u001b[0m\n\u001b[1;32m    975\u001b[0m     \u001b[0;32mdef\u001b[0m \u001b[0m_get_values\u001b[0m\u001b[0;34m(\u001b[0m\u001b[0mself\u001b[0m\u001b[0;34m,\u001b[0m \u001b[0mindexer\u001b[0m\u001b[0;34m)\u001b[0m\u001b[0;34m:\u001b[0m\u001b[0;34m\u001b[0m\u001b[0;34m\u001b[0m\u001b[0m\n\u001b[1;32m    976\u001b[0m         \u001b[0;32mtry\u001b[0m\u001b[0;34m:\u001b[0m\u001b[0;34m\u001b[0m\u001b[0;34m\u001b[0m\u001b[0m\n\u001b[0;32m--> 977\u001b[0;31m             return self._constructor(self._data.get_slice(indexer),\n\u001b[0m\u001b[1;32m    978\u001b[0m                                      fastpath=True).__finalize__(self)\n\u001b[1;32m    979\u001b[0m         \u001b[0;32mexcept\u001b[0m \u001b[0mException\u001b[0m\u001b[0;34m:\u001b[0m\u001b[0;34m\u001b[0m\u001b[0;34m\u001b[0m\u001b[0m\n",
      "\u001b[0;32m~/anaconda3/lib/python3.7/site-packages/pandas/core/internals/managers.py\u001b[0m in \u001b[0;36mget_slice\u001b[0;34m(self, slobj, axis)\u001b[0m\n\u001b[1;32m   1509\u001b[0m \u001b[0;34m\u001b[0m\u001b[0m\n\u001b[1;32m   1510\u001b[0m         return self.__class__(self._block._slice(slobj),\n\u001b[0;32m-> 1511\u001b[0;31m                               self.index[slobj], fastpath=True)\n\u001b[0m\u001b[1;32m   1512\u001b[0m \u001b[0;34m\u001b[0m\u001b[0m\n\u001b[1;32m   1513\u001b[0m     \u001b[0;34m@\u001b[0m\u001b[0mproperty\u001b[0m\u001b[0;34m\u001b[0m\u001b[0;34m\u001b[0m\u001b[0m\n",
      "\u001b[0;32m~/anaconda3/lib/python3.7/site-packages/pandas/core/indexes/base.py\u001b[0m in \u001b[0;36m__getitem__\u001b[0;34m(self, key)\u001b[0m\n\u001b[1;32m   3967\u001b[0m \u001b[0;34m\u001b[0m\u001b[0m\n\u001b[1;32m   3968\u001b[0m         \u001b[0mkey\u001b[0m \u001b[0;34m=\u001b[0m \u001b[0mcom\u001b[0m\u001b[0;34m.\u001b[0m\u001b[0mvalues_from_object\u001b[0m\u001b[0;34m(\u001b[0m\u001b[0mkey\u001b[0m\u001b[0;34m)\u001b[0m\u001b[0;34m\u001b[0m\u001b[0;34m\u001b[0m\u001b[0m\n\u001b[0;32m-> 3969\u001b[0;31m         \u001b[0mresult\u001b[0m \u001b[0;34m=\u001b[0m \u001b[0mgetitem\u001b[0m\u001b[0;34m(\u001b[0m\u001b[0mkey\u001b[0m\u001b[0;34m)\u001b[0m\u001b[0;34m\u001b[0m\u001b[0;34m\u001b[0m\u001b[0m\n\u001b[0m\u001b[1;32m   3970\u001b[0m         \u001b[0;32mif\u001b[0m \u001b[0;32mnot\u001b[0m \u001b[0mis_scalar\u001b[0m\u001b[0;34m(\u001b[0m\u001b[0mresult\u001b[0m\u001b[0;34m)\u001b[0m\u001b[0;34m:\u001b[0m\u001b[0;34m\u001b[0m\u001b[0;34m\u001b[0m\u001b[0m\n\u001b[1;32m   3971\u001b[0m             \u001b[0;32mreturn\u001b[0m \u001b[0mpromote\u001b[0m\u001b[0;34m(\u001b[0m\u001b[0mresult\u001b[0m\u001b[0;34m)\u001b[0m\u001b[0;34m\u001b[0m\u001b[0;34m\u001b[0m\u001b[0m\n",
      "\u001b[0;31mKeyboardInterrupt\u001b[0m: "
     ]
    }
   ],
   "source": [
    "%%time\n",
    "y_token_list = []\n",
    "y_type_list = []\n",
    "for tmp_x in x_I_array:\n",
    "    \n",
    "    tmp_y_type = 1 - (info_array < tmp_x).sum() / len(info_array)\n",
    "    \n",
    "    tmp_y_token = 1 - (word_freq_array[info_array < tmp_x]).sum()\n",
    "    \n",
    "    y_token_list += [tmp_y_token]\n",
    "\n",
    "    y_type_list += [tmp_y_type]\n",
    "    "
   ]
  },
  {
   "cell_type": "code",
   "execution_count": 32,
   "metadata": {
    "collapsed": true
   },
   "outputs": [],
   "source": [
    "x_I_array = info_array\n",
    "y_token_list = 1.-np.cumsum(word_freq_array)\n",
    "y_type_list = (np.arange( len(word_freq_array) )+1)/len(word_freq_array)"
   ]
  },
  {
   "cell_type": "markdown",
   "metadata": {},
   "source": [
    "## plot"
   ]
  },
  {
   "cell_type": "code",
   "execution_count": 33,
   "metadata": {
    "collapsed": true
   },
   "outputs": [],
   "source": [
    "x_I_array_cut = x_I_array[np.array(y_token_list)>=.2]"
   ]
  },
  {
   "cell_type": "code",
   "execution_count": 34,
   "metadata": {},
   "outputs": [
    {
     "data": {
      "text/plain": [
       "0.8853333333333304"
      ]
     },
     "execution_count": 34,
     "metadata": {},
     "output_type": "execute_result"
    }
   ],
   "source": [
    "x_I_array_cut[-1]"
   ]
  },
  {
   "cell_type": "code",
   "execution_count": 35,
   "metadata": {
    "collapsed": true
   },
   "outputs": [],
   "source": [
    "\n",
    "set_x_min = min(x_I_array)\n",
    "set_x_max = max(x_I_array)\n",
    "# set_x_max = 4\n",
    "# set_y_min, set_y_max"
   ]
  },
  {
   "cell_type": "code",
   "execution_count": 37,
   "metadata": {},
   "outputs": [
    {
     "data": {
      "image/png": "[encoded data removed]",
      "text/plain": [
       "<Figure size 279.452x197.384 with 1 Axes>"
      ]
     },
     "metadata": {
      "needs_background": "light"
     },
     "output_type": "display_data"
    }
   ],
   "source": [
    "c1 = ccolors[4]\n",
    "c2 = ccolors[8]\n",
    "\n",
    "fig, ax = plt.subplots(figsize=fig_size)\n",
    "\n",
    "# ax.plot(x_I_array, y_token_list, c=c1,  label='Word tokens')\n",
    "# ax.plot(x_I_array, y_type_list, c=c2, label='Word types')\n",
    "\n",
    "\n",
    "\n",
    "\n",
    "ax.plot(x_I_array, y_token_list, c=set_blue,  )\n",
    "# ax.plot(x_I_array, y_type_list, c=c2, )\n",
    "\n",
    "# x_I_array_cut = x_I_array[np.array(y_token_list)>=.2]\n",
    "ax.plot(x_I_array_cut, [0.2]* len(x_I_array_cut), ':', color='r')\n",
    "ax.plot([x_I_array_cut[-1]] * 50, np.linspace(0,.2,50), ':', color='r')\n",
    "\n",
    " \n",
    "ax.set_xlim(-.1, 2)\n",
    "ax.set_ylim(0, 1.1)\n",
    "ax.patch.set_alpha(0.0)\n",
    "\n",
    "# ax.set_xticks([0,1,2])\n",
    "# ax.set_yticks([0,0.5,1])\n",
    "\n",
    "ax.set_xticks([0,0.5,1,1.5,2])\n",
    "ax.set_yticks([0,0.2,0.4,0.6,0.8,1.0])\n",
    "\n",
    "\n",
    "# ax.set_xticks([0,2,4, 6 ])\n",
    "# ax.set_xticklabels([0,2,4])\n",
    "\n",
    "# ax.set_yscale(\"log\")\n",
    "# ax.set_ylim(0.000001, 2)\n",
    "\n",
    "# ax.set_yticks([10**-6, 10**-4, 10**-2,  1 ])\n",
    "# ax.set_yticklabels(['$10^{-6}$', '$10^{-4}$', '$10^{-2}$', '$10^0$', ])\n",
    "\n",
    "\n",
    "ax.set_xlabel('Information $I(w)$')\n",
    "ax.set_ylabel('Survival function')\n",
    "\n",
    "# ax.set_xlim(set_x_min, set_x_max)\n",
    "\n",
    "\n",
    "# ax.legend(loc='upper right',frameon=False)\n",
    "\n",
    "\n",
    "\n",
    "\n",
    "\n",
    "x_annot = -0.2\n",
    "y_annot = 1.05\n",
    "ax.annotate(r'\\textbf{B}',xy=(x_annot,y_annot),xycoords = 'axes fraction')\n",
    "\n",
    "plt.show()\n",
    "plt.close()\n",
    "\n",
    "\n",
    "fig_name = 'figure_02_b.svg' \n",
    "tmp_folder_file_full_path = os.path.join(os.pardir,'figures', fig_name)\n",
    "fig.savefig(tmp_folder_file_full_path, bbox_inches='tight', transparent=1, dpi=300)\n"
   ]
  },
  {
   "cell_type": "code",
   "execution_count": null,
   "metadata": {
    "collapsed": true
   },
   "outputs": [],
   "source": []
  },
  {
   "cell_type": "code",
   "execution_count": null,
   "metadata": {
    "collapsed": true
   },
   "outputs": [],
   "source": []
  }
 ],
 "metadata": {
  "kernelspec": {
   "display_name": "Python 3",
   "language": "python",
   "name": "python3"
  },
  "language_info": {
   "codemirror_mode": {
    "name": "ipython",
    "version": 3
   },
   "file_extension": ".py",
   "mimetype": "text/x-python",
   "name": "python",
   "nbconvert_exporter": "python",
   "pygments_lexer": "ipython3",
   "version": "3.7.3"
  }
 },
 "nbformat": 4,
 "nbformat_minor": 2
}
