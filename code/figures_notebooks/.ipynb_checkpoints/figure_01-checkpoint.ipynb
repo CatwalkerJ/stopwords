{
 "cells": [
  {
   "cell_type": "code",
   "execution_count": 1,
   "metadata": {},
   "outputs": [
    {
     "data": {
      "text/html": [
       "<style>.container { width:100% !important; }</style>"
      ],
      "text/plain": [
       "<IPython.core.display.HTML object>"
      ]
     },
     "metadata": {},
     "output_type": "display_data"
    }
   ],
   "source": [
    "## Pre-setting\n",
    "# automatically adjust the width of the notebook code cell\n",
    "from IPython.core.display import display, HTML\n",
    "display(HTML(\"<style>.container { width:100% !important; }</style>\"))\n",
    "\n",
    "# if one module is changed, this line will automatically reload that module\n",
    "%load_ext autoreload\n",
    "%autoreload 2\n",
    "\n",
    "# display the figure in the notebook\n",
    "%matplotlib inline\n",
    "\n",
    "# To change the font size in acrobat\n",
    "import matplotlib as mpl\n",
    "mpl.rcParams['pdf.fonttype'] = 42"
   ]
  },
  {
   "cell_type": "code",
   "execution_count": 2,
   "metadata": {},
   "outputs": [],
   "source": [
    "## Add path\n",
    "import os\n",
    "import sys\n",
    "# src_dir = ''\n",
    "# if src_dir not in sys.path:\n",
    "#     sys.path.insert(0, src_dir)\n",
    "    \n",
    "# src_dir"
   ]
  },
  {
   "cell_type": "code",
   "execution_count": 3,
   "metadata": {
    "collapsed": true
   },
   "outputs": [],
   "source": [
    "import numpy as np\n",
    "import pandas as pd\n",
    "import matplotlib.pyplot as plt"
   ]
  },
  {
   "cell_type": "code",
   "execution_count": 4,
   "metadata": {},
   "outputs": [
    {
     "name": "stderr",
     "output_type": "stream",
     "text": [
      "/home/martin/anaconda3/lib/python3.7/site-packages/matplotlib/__init__.py:846: MatplotlibDeprecationWarning: \n",
      "The text.latex.unicode rcparam was deprecated in Matplotlib 2.2 and will be removed in 3.1.\n",
      "  \"2.2\", name=key, obj_type=\"rcparam\", addendum=addendum)\n"
     ]
    }
   ],
   "source": [
    "###########\n",
    "## Setup ##\n",
    "###########\n",
    "# number of pt for column in latex-document\n",
    "fig_width_pt = 510  # single-column:510, double-column: 246; Get this from LaTeX using \\showthe\\columnwidth\n",
    "inches_per_pt = 1.1/72.27 # Convert pt to inches\n",
    "width_vs_height = (np.sqrt(5)-1.0)/1.75#(np.sqrt(5)-1.0)/2.0 # Ratio of height/width [(np.sqrt(5)-1.0)/2.0]\n",
    "fig_width = fig_width_pt*inches_per_pt  # width in inches\n",
    "fig_height = width_vs_height*fig_width  # height in inches\n",
    "fig_size = [fig_width,fig_height]\n",
    "\n",
    "# here you can set the parameters of the plot (fontsizes,...) in pt\n",
    "params = {'backend': 'ps',\n",
    "          'axes.titlesize':8,\n",
    "          'axes.labelsize': 10,\n",
    "#           'text.fontsize': 10,\n",
    "          'legend.fontsize': 10,\n",
    "#           'figtext.fontsize': 12,\n",
    "          'xtick.labelsize': 10,\n",
    "          'ytick.labelsize': 10,\n",
    "          \n",
    "#           'text.usetex': True,\n",
    "          'ps.usedistiller' : 'xpdf',\n",
    "          'figure.figsize': fig_size,\n",
    "          'text.latex.unicode':True,\n",
    "          'text.latex.preamble': [r'\\usepackage{bm}'],\n",
    "          \n",
    "          'xtick.direction':'out',\n",
    "          'ytick.direction':'out',\n",
    "          \n",
    "          'axes.spines.right' : False,\n",
    "          'axes.spines.top' : False\n",
    "         }\n",
    "plt.rcParams.update(params)\n"
   ]
  },
  {
   "cell_type": "code",
   "execution_count": 5,
   "metadata": {
    "collapsed": true
   },
   "outputs": [],
   "source": [
    "cmap = 'tab10'\n",
    "ccolors = plt.get_cmap(cmap)(np.arange(10, dtype=int))\n",
    "\n",
    "set_blue = ccolors[0]\n",
    "set_orange = ccolors[1]\n",
    "set_green = ccolors[2]\n",
    "set_gray = ccolors[7]"
   ]
  },
  {
   "cell_type": "code",
   "execution_count": null,
   "metadata": {
    "collapsed": true
   },
   "outputs": [],
   "source": []
  },
  {
   "cell_type": "markdown",
   "metadata": {},
   "source": [
    "## get all data"
   ]
  },
  {
   "cell_type": "code",
   "execution_count": 6,
   "metadata": {
    "collapsed": true
   },
   "outputs": [],
   "source": [
    "N_s = 1000\n",
    "\n",
    "corpus_name = 't20NewsGroup_topic_doc_no_short'\n",
    "plot_data_en_folder_file_path = os.path.abspath(os.path.join(os.pardir,  'output', '%s_stopword-statistics_Ns%s.csv'%(corpus_name,N_s)))\n",
    "\n",
    "corpus_name = 'multi_lg_portuguese_dw_general_v2'\n",
    "plot_data_pt_folder_file_path = os.path.abspath(os.path.join(os.pardir,  'output', '%s_stopword-statistics_Ns%s.csv'%(corpus_name,N_s)))\n",
    "\n",
    "corpus_name = 'multi_lg_chinese_sogou'\n",
    "plot_data_cn_folder_file_path = os.path.abspath(os.path.join(os.pardir,  'output', '%s_stopword-statistics_Ns%s.csv'%(corpus_name,N_s)))\n",
    "\n",
    "corpus_name = 'multi_lg_german'\n",
    "plot_data_de_folder_file_path = os.path.abspath(os.path.join(os.pardir,  'output', '%s_stopword-statistics_Ns%s.csv'%(corpus_name,N_s)))"
   ]
  },
  {
   "cell_type": "code",
   "execution_count": 7,
   "metadata": {
    "collapsed": true
   },
   "outputs": [],
   "source": [
    "all_df_en = pd.read_csv(plot_data_en_folder_file_path,index_col=0)\n",
    "\n",
    "all_df_pt = pd.read_csv(plot_data_pt_folder_file_path,index_col=0)\n",
    "\n",
    "all_df_cn = pd.read_csv(plot_data_cn_folder_file_path,index_col=0)\n",
    "\n",
    "all_df_de = pd.read_csv(plot_data_de_folder_file_path,index_col=0)"
   ]
  },
  {
   "cell_type": "markdown",
   "metadata": {},
   "source": [
    "## en: plot data "
   ]
  },
  {
   "cell_type": "code",
   "execution_count": 8,
   "metadata": {
    "collapsed": true,
    "scrolled": true
   },
   "outputs": [],
   "source": [
    "all_df_en = all_df_en.sort_values(by='N', ascending=0)\n",
    "all_df_en['word_type'] = all_df_en.index\n",
    "\n",
    "word_count_array_en = all_df_en.N.values\n",
    "\n",
    "info_mean_array_en = all_df_en['H-tilde'].values\n",
    "info_real_array_en = all_df_en['H'].values\n",
    "yerr_array_en = all_df_en['H-tilde_std'].values * 5\n",
    "\n",
    "D = 18803\n",
    "upper_limit_en = np.log2(D)"
   ]
  },
  {
   "cell_type": "code",
   "execution_count": 9,
   "metadata": {},
   "outputs": [
    {
     "data": {
      "text/plain": [
       "{'cancer': {'word_count': 398.0, 'info_real': 5.0275285313485565},\n",
       " 'information': {'word_count': 3049.0, 'info_real': 10.007444470318404},\n",
       " 'thanks': {'word_count': 2961.0, 'info_real': 11.405105797862735},\n",
       " 'article': {'word_count': 11475.0, 'info_real': 12.87429606220747},\n",
       " 'the': {'word_count': 239094.0, 'info_real': 12.982312497763989}}"
      ]
     },
     "execution_count": 9,
     "metadata": {},
     "output_type": "execute_result"
    }
   ],
   "source": [
    "chosen_word_list_en = ['cancer','information', 'thanks', 'article', 'the']\n",
    "\n",
    "chosen_word_dict_en = {}\n",
    "\n",
    "for i in chosen_word_list_en:\n",
    "\n",
    "    chosen_word_dict_en[i] = {\n",
    "        'word_count': float(all_df_en[all_df_en['word_type']==i]['N']),\n",
    "        'info_real': float(all_df_en[all_df_en['word_type']==i]['H']),\n",
    "    }\n",
    "\n",
    "chosen_word_dict_en"
   ]
  },
  {
   "cell_type": "markdown",
   "metadata": {},
   "source": [
    "## pt: plot data "
   ]
  },
  {
   "cell_type": "code",
   "execution_count": 10,
   "metadata": {
    "collapsed": true
   },
   "outputs": [],
   "source": [
    "all_df_pt = all_df_pt.sort_values(by='N', ascending=0)\n",
    "all_df_pt['word_type'] = all_df_pt.index\n",
    "\n",
    "word_count_array_pt = all_df_pt.N.values\n",
    "\n",
    "info_mean_array_pt = all_df_pt['H-tilde'].values\n",
    "info_real_array_pt = all_df_pt['H'].values\n",
    "yerr_array_pt = all_df_pt['H-tilde_std'].values * 5\n",
    "\n",
    "D = 3714\n",
    "upper_limit_pt = np.log2(D)"
   ]
  },
  {
   "cell_type": "code",
   "execution_count": 11,
   "metadata": {},
   "outputs": [
    {
     "data": {
      "text/plain": [
       "{'inflação': {'word_count': 106.0, 'info_real': 5.227216091761641},\n",
       " 'guerra': {'word_count': 1549.0, 'info_real': 8.913706940449586},\n",
       " 'revisão': {'word_count': 566.0, 'info_real': 9.112212080329057},\n",
       " 'de': {'word_count': 93663.0, 'info_real': 11.654668061375034}}"
      ]
     },
     "execution_count": 11,
     "metadata": {},
     "output_type": "execute_result"
    }
   ],
   "source": [
    "chosen_word_list_pt = ['inflação','guerra','revisão','de',]#[ 'feiticeira', 'rosas', 'esquecer', 'melhor',]\n",
    "# ['gott', 'dabei','euro', 'der']\n",
    "chosen_word_dict_pt = {}\n",
    "\n",
    "for i in chosen_word_list_pt:\n",
    "\n",
    "    chosen_word_dict_pt[i] = {\n",
    "        'word_count': float(all_df_pt[all_df_pt['word_type']==i]['N']),\n",
    "        'info_real': float(all_df_pt[all_df_pt['word_type']==i]['H']),\n",
    "    }\n",
    "\n",
    "chosen_word_dict_pt"
   ]
  },
  {
   "cell_type": "code",
   "execution_count": 12,
   "metadata": {
    "collapsed": true
   },
   "outputs": [],
   "source": [
    "# all_df_pt\n",
    "df_tmp = all_df_pt\n",
    "# df_tmp[(df_tmp['word_count']>100)&(df_tmp['word_count']<110)].sort_values(by='info_diff',ascending=False) # inflacao\n",
    "# df_tmp.sort_values(by='word_count',ascending=False) ## de\n",
    "# df_tmp[(df_tmp['word_count']>1000)].sort_values(by='info_diff',ascending=True) # revisao\n",
    "# df_tmp[(df_tmp['word_count']>1000)].sort_values(by='info_diff',ascending=False) # guerra\n",
    "\n",
    "\n"
   ]
  },
  {
   "cell_type": "code",
   "execution_count": null,
   "metadata": {
    "collapsed": true
   },
   "outputs": [],
   "source": []
  },
  {
   "cell_type": "code",
   "execution_count": null,
   "metadata": {
    "collapsed": true
   },
   "outputs": [],
   "source": []
  },
  {
   "cell_type": "code",
   "execution_count": null,
   "metadata": {
    "collapsed": true
   },
   "outputs": [],
   "source": []
  },
  {
   "cell_type": "markdown",
   "metadata": {},
   "source": [
    "## cn: plot data "
   ]
  },
  {
   "cell_type": "code",
   "execution_count": 13,
   "metadata": {
    "collapsed": true
   },
   "outputs": [],
   "source": [
    "all_df_cn = all_df_cn.sort_values(by='N', ascending=0)\n",
    "all_df_cn['word_type'] = all_df_cn.index\n",
    "\n",
    "word_count_array_cn = all_df_cn.N.values\n",
    "\n",
    "info_mean_array_cn = all_df_cn['H-tilde'].values\n",
    "info_real_array_cn = all_df_cn['H'].values\n",
    "yerr_array_cn = all_df_cn['H-tilde_std'].values * 5\n",
    "\n",
    "D = 9000\n",
    "upper_limit_cn = np.log2(D)"
   ]
  },
  {
   "cell_type": "code",
   "execution_count": 14,
   "metadata": {},
   "outputs": [
    {
     "data": {
      "text/plain": [
       "{'退货': {'word_count': 3.0, 'info_real': 0.0},\n",
       " '尤其': {'word_count': 367.0, 'info_real': 8.357484277354583},\n",
       " '球': {'word_count': 144.0, 'info_real': 6.283475414694086},\n",
       " '的': {'word_count': 101997.0, 'info_real': 12.9336070580791}}"
      ]
     },
     "execution_count": 14,
     "metadata": {},
     "output_type": "execute_result"
    }
   ],
   "source": [
    "chosen_word_list_cn = ['退货', '尤其','球', '的']\n",
    "\n",
    "chosen_word_dict_cn = {}\n",
    "\n",
    "for i in chosen_word_list_cn:\n",
    "\n",
    "    chosen_word_dict_cn[i] = {\n",
    "        'word_count': float(all_df_cn[all_df_cn['word_type']==i]['N']),\n",
    "        'info_real': float(all_df_cn[all_df_cn['word_type']==i]['H']),\n",
    "    }\n",
    "\n",
    "chosen_word_dict_cn"
   ]
  },
  {
   "cell_type": "code",
   "execution_count": null,
   "metadata": {
    "collapsed": true
   },
   "outputs": [],
   "source": []
  },
  {
   "cell_type": "markdown",
   "metadata": {},
   "source": [
    "## de: plot data "
   ]
  },
  {
   "cell_type": "code",
   "execution_count": 15,
   "metadata": {
    "collapsed": true
   },
   "outputs": [],
   "source": [
    "all_df_de = all_df_de.sort_values(by='N', ascending=0)\n",
    "all_df_de['word_type'] = all_df_de.index\n",
    "\n",
    "word_count_array_de = all_df_de.N.values\n",
    "\n",
    "info_mean_array_de = all_df_de['H-tilde'].values\n",
    "info_real_array_de = all_df_de['H'].values\n",
    "yerr_array_de = all_df_de['H-tilde_std'].values * 5\n",
    "\n",
    "D = 4500\n",
    "upper_limit_de = np.log2(D)"
   ]
  },
  {
   "cell_type": "code",
   "execution_count": 16,
   "metadata": {},
   "outputs": [
    {
     "data": {
      "text/plain": [
       "{'gott': {'word_count': 105.0, 'info_real': 5.854828079975383},\n",
       " 'dabei': {'word_count': 671.0, 'info_real': 9.257896396584439},\n",
       " 'euro': {'word_count': 2482.0, 'info_real': 8.676556779087743},\n",
       " 'der': {'word_count': 34586.0, 'info_real': 11.940370720511492}}"
      ]
     },
     "execution_count": 16,
     "metadata": {},
     "output_type": "execute_result"
    }
   ],
   "source": [
    "chosen_word_list_de = ['gott', 'dabei','euro', 'der']\n",
    "\n",
    "chosen_word_dict_de = {}\n",
    "\n",
    "for i in chosen_word_list_de:\n",
    "\n",
    "    chosen_word_dict_de[i] = {\n",
    "        'word_count': float(all_df_de[all_df_de['word_type']==i]['N']),\n",
    "        'info_real': float(all_df_de[all_df_de['word_type']==i]['H']),    }\n",
    "\n",
    "chosen_word_dict_de"
   ]
  },
  {
   "cell_type": "code",
   "execution_count": 17,
   "metadata": {
    "collapsed": true
   },
   "outputs": [],
   "source": [
    "# all_df_de.head()"
   ]
  },
  {
   "cell_type": "code",
   "execution_count": 18,
   "metadata": {
    "collapsed": true
   },
   "outputs": [],
   "source": [
    "# all_df_de[(all_df_de['word_count']>100)&(all_df_de['word_count']<110)].sort_values(by='info_diff',ascending=False)"
   ]
  },
  {
   "cell_type": "code",
   "execution_count": null,
   "metadata": {
    "collapsed": true
   },
   "outputs": [],
   "source": []
  },
  {
   "cell_type": "code",
   "execution_count": null,
   "metadata": {
    "collapsed": true
   },
   "outputs": [],
   "source": []
  },
  {
   "cell_type": "markdown",
   "metadata": {},
   "source": [
    "## down sample data points"
   ]
  },
  {
   "cell_type": "code",
   "execution_count": 19,
   "metadata": {
    "collapsed": true
   },
   "outputs": [],
   "source": [
    "down_sample_flag = 0"
   ]
  },
  {
   "cell_type": "code",
   "execution_count": 20,
   "metadata": {
    "collapsed": true
   },
   "outputs": [],
   "source": [
    "if down_sample_flag:\n",
    "    word_count_array_en_new = []\n",
    "    info_real_array_en_new = []\n",
    "    info_mean_array_en_new = []\n",
    "    yerr_array_en_new = []\n",
    "\n",
    "    for tmp_id, tmp_ele in enumerate(word_count_array_en):\n",
    "        if tmp_ele not in word_count_array_en_new:\n",
    "            word_count_array_en_new += [tmp_ele]\n",
    "            info_real_array_en_new += [info_real_array_en[tmp_id]]\n",
    "            info_mean_array_en_new += [info_mean_array_en[tmp_id]]\n",
    "            yerr_array_en_new += [yerr_array_en[tmp_id]]\n",
    "\n",
    "\n",
    "    word_count_array_en = np.array(word_count_array_en_new)\n",
    "    info_real_array_en = np.array(info_real_array_en_new)\n",
    "    info_mean_array_en = np.array(info_mean_array_en_new)\n",
    "    yerr_array_en = np.array(yerr_array_en_new)\n",
    "    \n",
    "if down_sample_flag:\n",
    "    word_count_array_pt_new = []\n",
    "    info_real_array_pt_new = []\n",
    "    info_mean_array_pt_new = []\n",
    "    yerr_array_pt_new = []\n",
    "\n",
    "    for tmp_id, tmp_ele in enumerate(word_count_array_pt):\n",
    "        if tmp_ele not in word_count_array_pt_new:\n",
    "            word_count_array_pt_new += [tmp_ele]\n",
    "            info_real_array_pt_new += [info_real_array_pt[tmp_id]]\n",
    "            info_mean_array_pt_new += [info_mean_array_pt[tmp_id]]\n",
    "            yerr_array_pt_new += [yerr_array_pt[tmp_id]]\n",
    "\n",
    "\n",
    "    word_count_array_pt = np.array(word_count_array_pt_new)\n",
    "    info_real_array_pt = np.array(info_real_array_pt_new)\n",
    "    info_mean_array_pt = np.array(info_mean_array_pt_new)\n",
    "    yerr_array_pt = np.array(yerr_array_pt_new)\n",
    "    \n",
    "if down_sample_flag:\n",
    "    word_count_array_cn_new = []\n",
    "    info_real_array_cn_new = []\n",
    "    info_mean_array_cn_new = []\n",
    "    yerr_array_cn_new = []\n",
    "\n",
    "    for tmp_id, tmp_ele in enumerate(word_count_array_cn):\n",
    "        if tmp_ele not in word_count_array_cn_new:\n",
    "            word_count_array_cn_new += [tmp_ele]\n",
    "            info_real_array_cn_new += [info_real_array_cn[tmp_id]]\n",
    "            info_mean_array_cn_new += [info_mean_array_cn[tmp_id]]\n",
    "            yerr_array_cn_new += [yerr_array_cn[tmp_id]]\n",
    "\n",
    "\n",
    "    word_count_array_cn = np.array(word_count_array_cn_new)\n",
    "    info_real_array_cn = np.array(info_real_array_cn_new)\n",
    "    info_mean_array_cn = np.array(info_mean_array_cn_new)\n",
    "    yerr_array_cn = np.array(yerr_array_cn_new)\n",
    "    \n",
    "if down_sample_flag:\n",
    "    word_count_array_de_new = []\n",
    "    info_real_array_de_new = []\n",
    "    info_mean_array_de_new = []\n",
    "    yerr_array_de_new = []\n",
    "\n",
    "    for tmp_id, tmp_ele in enumerate(word_count_array_de):\n",
    "        if tmp_ele not in word_count_array_de_new:\n",
    "            word_count_array_de_new += [tmp_ele]\n",
    "            info_real_array_de_new += [info_real_array_de[tmp_id]]\n",
    "            info_mean_array_de_new += [info_mean_array_de[tmp_id]]\n",
    "            yerr_array_de_new += [yerr_array_de[tmp_id]]\n",
    "\n",
    "\n",
    "    word_count_array_de = np.array(word_count_array_de_new)\n",
    "    info_real_array_de = np.array(info_real_array_de_new)\n",
    "    info_mean_array_de = np.array(info_mean_array_de_new)\n",
    "    yerr_array_de = np.array(yerr_array_de_new)"
   ]
  },
  {
   "cell_type": "code",
   "execution_count": 21,
   "metadata": {},
   "outputs": [
    {
     "data": {
      "text/plain": [
       "(93172, 99960)"
      ]
     },
     "execution_count": 21,
     "metadata": {},
     "output_type": "execute_result"
    }
   ],
   "source": [
    "len(word_count_array_en),len(word_count_array_de),"
   ]
  },
  {
   "cell_type": "code",
   "execution_count": null,
   "metadata": {
    "collapsed": true
   },
   "outputs": [],
   "source": []
  },
  {
   "cell_type": "markdown",
   "metadata": {},
   "source": [
    "### where to put stopword"
   ]
  },
  {
   "cell_type": "code",
   "execution_count": 22,
   "metadata": {},
   "outputs": [
    {
     "data": {
      "text/plain": [
       "['cancer', 'information', 'thanks', 'article', 'the']"
      ]
     },
     "execution_count": 22,
     "metadata": {},
     "output_type": "execute_result"
    }
   ],
   "source": [
    "x_factor_list_en = [.9, .9, .08, .1, .5,]\n",
    "y_factor_list_en = [-1.9, -1.9, -.0, -.0, -2.1,]\n",
    "chosen_word_list_en"
   ]
  },
  {
   "cell_type": "code",
   "execution_count": 23,
   "metadata": {},
   "outputs": [
    {
     "data": {
      "text/plain": [
       "['inflação', 'guerra', 'revisão', 'de']"
      ]
     },
     "execution_count": 23,
     "metadata": {},
     "output_type": "execute_result"
    }
   ],
   "source": [
    "# x_factor_list_pt = [1.3, 1.1, .08, .15, ]\n",
    "# y_factor_list_pt = [-1.5, .5, -.0, -.0, ]\n",
    "x_factor_list_pt = [1.3, 1.4, 0.08, .4, ]\n",
    "y_factor_list_pt = [-1.5, -1, -0., 1, ]\n",
    "chosen_word_list_pt"
   ]
  },
  {
   "cell_type": "code",
   "execution_count": 24,
   "metadata": {},
   "outputs": [
    {
     "data": {
      "text/plain": [
       "['退货', '尤其', '球', '的']"
      ]
     },
     "execution_count": 24,
     "metadata": {},
     "output_type": "execute_result"
    }
   ],
   "source": [
    "x_factor_list_cn = [3.5, 0.3, 2.4, .6, ]\n",
    "y_factor_list_cn = [-.5, .8, -2, 1, ]\n",
    "chosen_word_list_cn"
   ]
  },
  {
   "cell_type": "code",
   "execution_count": 25,
   "metadata": {},
   "outputs": [
    {
     "data": {
      "text/plain": [
       "['gott', 'dabei', 'euro', 'der']"
      ]
     },
     "execution_count": 25,
     "metadata": {},
     "output_type": "execute_result"
    }
   ],
   "source": [
    "x_factor_list_de = [1.5, 0.2, 1.4, .4, ]\n",
    "y_factor_list_de = [-.5, .8, -1, 1, ]\n",
    "chosen_word_list_de"
   ]
  },
  {
   "cell_type": "code",
   "execution_count": 26,
   "metadata": {},
   "outputs": [
    {
     "data": {
      "text/plain": [
       "['退货', '尤其', '球', '的']"
      ]
     },
     "execution_count": 26,
     "metadata": {},
     "output_type": "execute_result"
    }
   ],
   "source": [
    "chosen_word_list_cn"
   ]
  },
  {
   "cell_type": "markdown",
   "metadata": {},
   "source": [
    "## plot"
   ]
  },
  {
   "cell_type": "code",
   "execution_count": 27,
   "metadata": {
    "collapsed": true
   },
   "outputs": [],
   "source": [
    "# plt.rcParams['font.sans-serif']=['Adobe Fangsong Std'] #用来正常显示中文标签\n",
    "# plt.rcParams['font.family']='NotoSansCJK'\n",
    "# plt.rcParams['axes.unicode_minus']=False #用来正常显示负号\n",
    "# font_cn = 'NotoSansCJK'\n",
    "# font_cn='Noto Sans CJK JP Bold'\n",
    "# font_cn = 'WenQuanYi Micro Hei Mono'\n",
    "\n",
    "from matplotlib.font_manager import FontProperties\n",
    "font_cn = FontProperties(fname = '/usr/share/fonts/truetype/wqy/wqy-zenhei.ttc')"
   ]
  },
  {
   "cell_type": "code",
   "execution_count": 28,
   "metadata": {},
   "outputs": [
    {
     "data": {
      "text/plain": [
       "array([ 0,  5, 10, 15])"
      ]
     },
     "execution_count": 28,
     "metadata": {},
     "output_type": "execute_result"
    }
   ],
   "source": [
    "y_lable_list = np.linspace(0, 15, 4).astype(int)\n",
    "y_lable_list"
   ]
  },
  {
   "cell_type": "code",
   "execution_count": 29,
   "metadata": {
    "collapsed": true
   },
   "outputs": [],
   "source": [
    "# set_green = 'r'"
   ]
  },
  {
   "cell_type": "code",
   "execution_count": 30,
   "metadata": {},
   "outputs": [
    {
     "data": {
      "text/plain": [
       "(array([0.12156863, 0.46666667, 0.70588235, 1.        ]),\n",
       " array([1.        , 0.49803922, 0.05490196, 1.        ]),\n",
       " array([0.17254902, 0.62745098, 0.17254902, 1.        ]),\n",
       " array([0.49803922, 0.49803922, 0.49803922, 1.        ]))"
      ]
     },
     "execution_count": 30,
     "metadata": {},
     "output_type": "execute_result"
    }
   ],
   "source": [
    "set_blue, set_orange, set_green, set_gray"
   ]
  },
  {
   "cell_type": "code",
   "execution_count": 31,
   "metadata": {
    "scrolled": false
   },
   "outputs": [
    {
     "name": "stdout",
     "output_type": "stream",
     "text": [
      "退货\n",
      "尤其\n",
      "球\n",
      "的\n"
     ]
    },
    {
     "data": {
      "image/png": "[encoded data removed]",
      "text/plain": [
       "<Figure size 558.904x394.768 with 4 Axes>"
      ]
     },
     "metadata": {
      "needs_background": "light"
     },
     "output_type": "display_data"
    },
    {
     "name": "stdout",
     "output_type": "stream",
     "text": [
      "CPU times: user 1min 52s, sys: 1.74 s, total: 1min 54s\n",
      "Wall time: 1min 52s\n"
     ]
    }
   ],
   "source": [
    "%%time\n",
    "\n",
    "plt.close('all')\n",
    "fig, axes = plt.subplots(nrows=2, ncols=2, figsize=fig_size)\n",
    "\n",
    "ax1 = axes[0, 0]\n",
    "ax2 = axes[0, 1]\n",
    "ax3 = axes[1, 0]\n",
    "ax4 = axes[1, 1]\n",
    "\n",
    "\n",
    "x_annot1 = -0.2\n",
    "y_annot1 = 1.06\n",
    "\n",
    "x_annot2 = -0.1\n",
    "y_annot2 = 1.06\n",
    "\n",
    "x_annot_text = 0.05\n",
    "y_annot_text = 0.95\n",
    "\n",
    "ymin,ymax=-1,16.\n",
    "\n",
    "###########\n",
    "# en\n",
    "###########\n",
    "\n",
    "# ax1.plot(x_list_en, upper_limit_list_en,  lw=1,  color=set_gray, rasterized=1)\n",
    "ax1.plot([np.min(word_count_array_en),np.max(word_count_array_en)], [upper_limit_en,upper_limit_en],  lw=1, ls=':',  color='black')\n",
    "\n",
    "\n",
    "ax1.plot(word_count_array_en, info_real_array_en, ms=.5, lw=0, marker='o', color=set_blue, alpha=0.5, rasterized=1,zorder=1)\n",
    "ax1.errorbar(word_count_array_en, info_mean_array_en, yerr=yerr_array_en, color=set_orange, lw=1, alpha=0.9, rasterized=1,zorder=2)\n",
    "\n",
    "\n",
    "# for tmp_id, tmp_word in enumerate(chosen_word_list_en):\n",
    "#     ax1.scatter(chosen_word_dict_en[tmp_word]['word_count'], chosen_word_dict_en[tmp_word]['info_real'], marker='d', facecolors=set_green,)\n",
    "#     ax1.text(chosen_word_dict_en[tmp_word]['word_count']*x_factor_list_en[tmp_id], chosen_word_dict_en[tmp_word]['info_real']+y_factor_list_en[tmp_id], tmp_word, color=set_green)\n",
    "    \n",
    "for tmp_id, tmp_word in enumerate(chosen_word_list_en):\n",
    "    ax1.scatter(chosen_word_dict_en[tmp_word]['word_count'], chosen_word_dict_en[tmp_word]['info_real'], marker='x', facecolors=set_green,zorder=3)\n",
    "    ax1.text(chosen_word_dict_en[tmp_word]['word_count']*x_factor_list_en[tmp_id], chosen_word_dict_en[tmp_word]['info_real']+y_factor_list_en[tmp_id], tmp_word, color=set_green)\n",
    "    \n",
    "# ax1.text(0.05, 0.6, '(a) English', horizontalalignment='left', verticalalignment='bottom', transform = ax1.transAxes)\n",
    "# ax1.text(-0.08, 1,'(a)', horizontalalignment='right', verticalalignment='bottom', transform = ax1.transAxes)\n",
    "\n",
    "# ax1.annotate(r'\\textbf{A}',xy=(x_annot1,y_annot1),xycoords = 'axes fraction')\n",
    "ax1.annotate(r'A',xy=(x_annot1,y_annot1),xycoords = 'axes fraction',fontweight='bold')\n",
    "ax1.annotate('English',xy=(x_annot_text,y_annot_text),xycoords = 'axes fraction')\n",
    "\n",
    "ax1.set_xscale(\"log\")\n",
    "\n",
    "# ax1.set_xlabel('Word frequency $n(w)$')\n",
    "ax1.set_ylabel('$H(w|C)$')\n",
    "\n",
    "ax1.set_yticks(y_lable_list)\n",
    "ax1.set_yticklabels(y_lable_list, visible=1)\n",
    "# ax1.set_ylim([-1, 16])\n",
    "ax1.set_ylim(ymin,ymax)\n",
    "\n",
    "\n",
    "###########\n",
    "# pt\n",
    "###########\n",
    "\n",
    "# ax2.plot(x_list_pt, upper_limit_list_pt,  lw=1,  color=set_gray, rasterized=1)\n",
    "ax2.plot([np.min(word_count_array_pt),np.max(word_count_array_pt)], [upper_limit_pt,upper_limit_pt],  lw=1, ls=':',  color='black')\n",
    "\n",
    "\n",
    "ax2.plot(word_count_array_pt, info_real_array_pt, ms=.5, lw=0, marker='o', color=set_blue, alpha=0.5, rasterized=1,zorder=1)\n",
    "ax2.errorbar(word_count_array_pt, info_mean_array_pt, yerr=yerr_array_pt, color=set_orange, lw=1, alpha=0.9, rasterized=1,zorder=2)\n",
    "\n",
    "for tmp_id, tmp_word in enumerate(chosen_word_list_pt):\n",
    "    ax2.scatter(chosen_word_dict_pt[tmp_word]['word_count'], chosen_word_dict_pt[tmp_word]['info_real'], marker='x', facecolors=set_green,zorder=3)\n",
    "    ax2.text(chosen_word_dict_pt[tmp_word]['word_count']*x_factor_list_pt[tmp_id], chosen_word_dict_pt[tmp_word]['info_real']+y_factor_list_pt[tmp_id], tmp_word, color=set_green)\n",
    "\n",
    "# ax2.text(0.05, 0.6, '(b)Portuguese', horizontalalignment='left', verticalalignment='bottom', transform = ax2.transAxes)\n",
    "# ax2.annotate(r'\\textbf{B}',xy=(x_annot2,y_annot2),xycoords = 'axes fraction')\n",
    "ax2.annotate(r'B',xy=(x_annot2,y_annot2),xycoords = 'axes fraction',fontweight='bold')\n",
    "ax2.annotate('Portuguese',xy=(x_annot_text,y_annot_text),xycoords = 'axes fraction')\n",
    "\n",
    "ax2.set_xscale(\"log\")\n",
    "\n",
    "ax2.set_yticks(y_lable_list)\n",
    "ax2.set_yticklabels(y_lable_list, visible=1)\n",
    "# ax2.set_ylim([-1, 16])\n",
    "ax2.set_ylim(ymin,ymax)\n",
    "\n",
    "###########\n",
    "# cn\n",
    "###########\n",
    "\n",
    "# # ax3.plot(x_list_cn, upper_limit_list_cn,  lw=1,  color=set_gray, rasterized=1)\n",
    "ax3.plot([np.min(word_count_array_cn),np.max(word_count_array_cn)], [upper_limit_cn,upper_limit_cn],  lw=1, ls=':',  color='black')\n",
    "\n",
    "\n",
    "ax3.plot(word_count_array_cn, info_real_array_cn, ms=.5, lw=0, marker='o', color=set_blue, alpha=0.5, rasterized=1,zorder=1)\n",
    "ax3.errorbar(word_count_array_cn, info_mean_array_cn, yerr=yerr_array_cn, color=set_orange, lw=1, alpha=0.9, rasterized=1,zorder=2)\n",
    "\n",
    "for tmp_id, tmp_word in enumerate(chosen_word_list_cn):\n",
    "    ax3.scatter(chosen_word_dict_cn[tmp_word]['word_count'], chosen_word_dict_cn[tmp_word]['info_real'], marker='x', facecolors=set_green,zorder=3)\n",
    "#     ax3.text(chosen_word_dict_cn[tmp_word]['word_count']*x_factor_list_cn[tmp_id], chosen_word_dict_cn[tmp_word]['info_real']+y_factor_list_cn[tmp_id], tmp_word, color=set_green, fontname = font_cn)\n",
    "    ax3.text(chosen_word_dict_cn[tmp_word]['word_count']*x_factor_list_cn[tmp_id], chosen_word_dict_cn[tmp_word]['info_real']+y_factor_list_cn[tmp_id], tmp_word, color=set_green, fontproperties = font_cn)\n",
    "\n",
    "#     ax3.text(chosen_word_dict_cn[tmp_word]['word_count']*x_factor_list_cn[tmp_id], chosen_word_dict_cn[tmp_word]['info_real']+y_factor_list_cn[tmp_id], s=u'测试', color=set_green, fontname = font_cn)\n",
    "\n",
    "    \n",
    "    print(tmp_word)\n",
    "    s = tmp_word\n",
    "# ax3.text(0.05, 0.6, '(c) Chinese', horizontalalignment='left', verticalalignment='bottom', transform = ax3.transAxes)\n",
    "# ax3.annotate(r'\\textbf{C}',xy=(x_annot1,y_annot1),xycoords = 'axes fraction')\n",
    "ax3.annotate(r'C',xy=(x_annot1,y_annot1),xycoords = 'axes fraction',fontweight='bold')\n",
    "ax3.annotate('Chinese',xy=(x_annot_text,y_annot_text),xycoords = 'axes fraction')\n",
    "\n",
    "    \n",
    "ax3.set_xscale(\"log\")\n",
    "ax3.set_xlabel('Word frequency $n(w)$')\n",
    "ax3.set_ylabel('$H(w|C)$')\n",
    "\n",
    "ax3.set_yticks(y_lable_list)\n",
    "ax3.set_yticklabels(y_lable_list, visible=1)\n",
    "ax3.set_ylim(ymin,ymax)\n",
    "\n",
    "###########\n",
    "# de\n",
    "###########\n",
    "\n",
    "# ax4.plot(x_list_de, upper_limit_list_de,  lw=1,  color=set_gray, rasterized=1)\n",
    "ax4.plot([np.min(word_count_array_de),np.max(word_count_array_de)], [upper_limit_de,upper_limit_de],  lw=1, ls=':',  color='black')\n",
    "\n",
    "\n",
    "ax4.plot(word_count_array_de, info_real_array_de, ms=.5, lw=0, marker='o', color=set_blue, alpha=0.5, rasterized=1,zorder=1)\n",
    "ax4.errorbar(word_count_array_de, info_mean_array_de, yerr=yerr_array_de, color=set_orange, lw=1, alpha=0.9, rasterized=1,zorder=2)\n",
    "\n",
    "for tmp_id, tmp_word in enumerate(chosen_word_list_de):\n",
    "    ax4.scatter(chosen_word_dict_de[tmp_word]['word_count'], chosen_word_dict_de[tmp_word]['info_real'], marker='x', facecolors=set_green,zorder=3)\n",
    "    ax4.text(chosen_word_dict_de[tmp_word]['word_count']*x_factor_list_de[tmp_id], chosen_word_dict_de[tmp_word]['info_real']+y_factor_list_de[tmp_id], tmp_word, color=set_green)\n",
    "\n",
    "    \n",
    "# ax4.text(0.05, 0.6, '(d) German', horizontalalignment='left', verticalalignment='bottom', transform = ax4.transAxes)\n",
    "\n",
    "\n",
    "# ax4.annotate(r'\\textbf{D}',xy=(x_annot2,y_annot2),xycoords = 'axes fraction')\n",
    "ax4.annotate(r'D',xy=(x_annot2,y_annot2),xycoords = 'axes fraction',fontweight='bold')\n",
    "ax4.annotate('German',xy=(x_annot_text,y_annot_text),xycoords = 'axes fraction')\n",
    "\n",
    "\n",
    "ax4.set_xscale(\"log\")\n",
    "ax4.set_xlabel('Word frequency $n(w)$')\n",
    "\n",
    "ax4.set_yticks(y_lable_list)\n",
    "ax4.set_yticklabels(y_lable_list, visible=1)\n",
    "\n",
    "ax4.set_ylim(ymin,ymax)\n",
    "\n",
    "###########\n",
    "# end\n",
    "###########\n",
    "\n",
    "\n",
    "plt.subplots_adjust(wspace=.15, hspace=0.25)\n",
    "\n",
    "plt.show()\n",
    "plt.close()\n",
    "\n",
    "\n",
    "# fig_name = 'figure_01_v3.png'\n",
    "# tmp_folder_file_full_path = os.path.join(os.pardir,'figures', fig_name)\n",
    "# fig.savefig(tmp_folder_file_full_path, bbox_inches='tight', transparent=0,dpi=300)\n",
    "fig_name = 'figure_01_v3.pdf'\n",
    "tmp_folder_file_full_path = os.path.join(os.pardir,'figures', fig_name)\n",
    "fig.savefig(tmp_folder_file_full_path, bbox_inches='tight', transparent=0,dpi=300)\n"
   ]
  },
  {
   "cell_type": "code",
   "execution_count": null,
   "metadata": {
    "collapsed": true
   },
   "outputs": [],
   "source": []
  },
  {
   "cell_type": "code",
   "execution_count": null,
   "metadata": {
    "collapsed": true
   },
   "outputs": [],
   "source": []
  }
 ],
 "metadata": {
  "kernelspec": {
   "display_name": "Python 3",
   "language": "python",
   "name": "python3"
  },
  "language_info": {
   "codemirror_mode": {
    "name": "ipython",
    "version": 3
   },
   "file_extension": ".py",
   "mimetype": "text/x-python",
   "name": "python",
   "nbconvert_exporter": "python",
   "pygments_lexer": "ipython3",
   "version": "3.7.3"
  }
 },
 "nbformat": 4,
 "nbformat_minor": 2
}
