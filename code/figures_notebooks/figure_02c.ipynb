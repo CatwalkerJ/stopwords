{
 "cells": [
  {
   "cell_type": "code",
   "execution_count": 2,
   "metadata": {},
   "outputs": [
    {
     "data": {
      "text/html": [
       "<style>.container { width:100% !important; }</style>"
      ],
      "text/plain": [
       "<IPython.core.display.HTML object>"
      ]
     },
     "metadata": {},
     "output_type": "display_data"
    }
   ],
   "source": [
    "## Pre-setting\n",
    "# automatically adjust the width of the notebook code cell\n",
    "from IPython.core.display import display, HTML\n",
    "display(HTML(\"<style>.container { width:100% !important; }</style>\"))\n",
    "\n",
    "# if one module is changed, this line will automatically reload that module\n",
    "%load_ext autoreload\n",
    "%autoreload 2\n",
    "\n",
    "# display the figure in the notebook\n",
    "%matplotlib inline\n",
    "\n",
    "# To change the font size in acrobat\n",
    "import matplotlib as mpl\n",
    "mpl.rcParams['pdf.fonttype'] = 42"
   ]
  },
  {
   "cell_type": "code",
   "execution_count": 13,
   "metadata": {},
   "outputs": [],
   "source": [
    "## Add path\n",
    "import os\n",
    "import sys\n",
    "src_dir = os.path.abspath(os.path.join(os.pardir, 'src'))\n",
    "if src_dir not in sys.path:\n",
    "    sys.path.insert(0, src_dir)\n",
    "from filter_words import make_stopwords_filter\n",
    "\n",
    "# src_dir"
   ]
  },
  {
   "cell_type": "code",
   "execution_count": 14,
   "metadata": {
    "collapsed": true
   },
   "outputs": [],
   "source": [
    "## System package\n",
    "\n",
    "import matplotlib.pyplot as plt\n",
    "import json\n",
    "import numpy as np\n",
    "import pandas as pd\n",
    "import timeit\n",
    "from scipy import stats\n",
    "from collections import Counter\n",
    "from scipy.stats import spearmanr, pearsonr"
   ]
  },
  {
   "cell_type": "code",
   "execution_count": null,
   "metadata": {
    "collapsed": true
   },
   "outputs": [],
   "source": []
  },
  {
   "cell_type": "markdown",
   "metadata": {},
   "source": [
    "# Get data"
   ]
  },
  {
   "cell_type": "markdown",
   "metadata": {},
   "source": [
    "## read data"
   ]
  },
  {
   "cell_type": "code",
   "execution_count": 22,
   "metadata": {
    "collapsed": true
   },
   "outputs": [
    {
     "data": {
      "text/html": [
       "<div>\n",
       "<style scoped>\n",
       "    .dataframe tbody tr th:only-of-type {\n",
       "        vertical-align: middle;\n",
       "    }\n",
       "\n",
       "    .dataframe tbody tr th {\n",
       "        vertical-align: top;\n",
       "    }\n",
       "\n",
       "    .dataframe thead th {\n",
       "        text-align: right;\n",
       "    }\n",
       "</style>\n",
       "<table border=\"1\" class=\"dataframe\">\n",
       "  <thead>\n",
       "    <tr style=\"text-align: right;\">\n",
       "      <th></th>\n",
       "      <th>F</th>\n",
       "      <th>I</th>\n",
       "      <th>tfidf</th>\n",
       "      <th>manual</th>\n",
       "      <th>H</th>\n",
       "      <th>H-tilde</th>\n",
       "      <th>H-tilde_std</th>\n",
       "      <th>N</th>\n",
       "    </tr>\n",
       "  </thead>\n",
       "  <tbody>\n",
       "    <tr>\n",
       "      <th>aaa</th>\n",
       "      <td>2.140121e-05</td>\n",
       "      <td>0.897519</td>\n",
       "      <td>9.084176</td>\n",
       "      <td>NaN</td>\n",
       "      <td>5.439733</td>\n",
       "      <td>6.337252</td>\n",
       "      <td>0.022193</td>\n",
       "      <td>82</td>\n",
       "    </tr>\n",
       "    <tr>\n",
       "      <th>aaaa</th>\n",
       "      <td>5.219807e-07</td>\n",
       "      <td>1.000000</td>\n",
       "      <td>19.683543</td>\n",
       "      <td>NaN</td>\n",
       "      <td>0.000000</td>\n",
       "      <td>1.000000</td>\n",
       "      <td>0.000000</td>\n",
       "      <td>2</td>\n",
       "    </tr>\n",
       "    <tr>\n",
       "      <th>aaaaa</th>\n",
       "      <td>1.304952e-06</td>\n",
       "      <td>-0.000800</td>\n",
       "      <td>8.232334</td>\n",
       "      <td>NaN</td>\n",
       "      <td>2.321928</td>\n",
       "      <td>2.321128</td>\n",
       "      <td>0.017871</td>\n",
       "      <td>5</td>\n",
       "    </tr>\n",
       "    <tr>\n",
       "      <th>aaaaaaaaaaaa</th>\n",
       "      <td>2.609904e-07</td>\n",
       "      <td>0.000000</td>\n",
       "      <td>9.841772</td>\n",
       "      <td>NaN</td>\n",
       "      <td>0.000000</td>\n",
       "      <td>0.000000</td>\n",
       "      <td>0.000000</td>\n",
       "      <td>1</td>\n",
       "    </tr>\n",
       "    <tr>\n",
       "      <th>aaaaaaaaaaaaaaaaaaaaaaaaaaaaaaauuuuuuuuuuuuuuuuuuuuuuuuuuuuuuuugggggggggggggggg</th>\n",
       "      <td>7.829711e-07</td>\n",
       "      <td>-0.000667</td>\n",
       "      <td>8.743159</td>\n",
       "      <td>NaN</td>\n",
       "      <td>1.584963</td>\n",
       "      <td>1.584296</td>\n",
       "      <td>0.021071</td>\n",
       "      <td>3</td>\n",
       "    </tr>\n",
       "  </tbody>\n",
       "</table>\n",
       "</div>"
      ],
      "text/plain": [
       "                                                               F         I  \\\n",
       "aaa                                                 2.140121e-05  0.897519   \n",
       "aaaa                                                5.219807e-07  1.000000   \n",
       "aaaaa                                               1.304952e-06 -0.000800   \n",
       "aaaaaaaaaaaa                                        2.609904e-07  0.000000   \n",
       "aaaaaaaaaaaaaaaaaaaaaaaaaaaaaaauuuuuuuuuuuuuuuu...  7.829711e-07 -0.000667   \n",
       "\n",
       "                                                        tfidf  manual  \\\n",
       "aaa                                                  9.084176     NaN   \n",
       "aaaa                                                19.683543     NaN   \n",
       "aaaaa                                                8.232334     NaN   \n",
       "aaaaaaaaaaaa                                         9.841772     NaN   \n",
       "aaaaaaaaaaaaaaaaaaaaaaaaaaaaaaauuuuuuuuuuuuuuuu...   8.743159     NaN   \n",
       "\n",
       "                                                           H   H-tilde  \\\n",
       "aaa                                                 5.439733  6.337252   \n",
       "aaaa                                                0.000000  1.000000   \n",
       "aaaaa                                               2.321928  2.321128   \n",
       "aaaaaaaaaaaa                                        0.000000  0.000000   \n",
       "aaaaaaaaaaaaaaaaaaaaaaaaaaaaaaauuuuuuuuuuuuuuuu...  1.584963  1.584296   \n",
       "\n",
       "                                                    H-tilde_std   N  \n",
       "aaa                                                    0.022193  82  \n",
       "aaaa                                                   0.000000   2  \n",
       "aaaaa                                                  0.017871   5  \n",
       "aaaaaaaaaaaa                                           0.000000   1  \n",
       "aaaaaaaaaaaaaaaaaaaaaaaaaaaaaaauuuuuuuuuuuuuuuu...     0.021071   3  "
      ]
     },
     "execution_count": 22,
     "metadata": {},
     "output_type": "execute_result"
    }
   ],
   "source": [
    "N_s = 1000\n",
    "\n",
    "corpus_name = 't20NewsGroup_topic_doc_no_short'\n",
    "plot_data_en_folder_file_path = os.path.abspath(os.path.join(os.pardir,  'output', '%s_stopword-statistics_Ns%s.csv'%(corpus_name,N_s)))\n",
    "df = pd.read_csv(plot_data_en_folder_file_path,index_col=0,na_filter = False)\n",
    "df['manual']=df['manual'].replace(to_replace='',value=np.nan).replace(to_replace='1.0',value=1.0)\n",
    "df.head()"
   ]
  },
  {
   "cell_type": "markdown",
   "metadata": {},
   "source": [
    "## Spearmanr"
   ]
  },
  {
   "cell_type": "code",
   "execution_count": 30,
   "metadata": {
    "collapsed": true
   },
   "outputs": [
    {
     "name": "stdout",
     "output_type": "stream",
     "text": [
      "INFOR\n",
      "TFIDF\n",
      "MANUAL\n",
      "BOTTOM\n",
      "TOP\n"
     ]
    }
   ],
   "source": [
    "# list_S = ['INFOR','TFIDF','BOTTOM','TOP','MANUAL']\n",
    "list_S = ['INFOR','TFIDF','MANUAL','BOTTOM','TOP']#,'TOP-BOTTOM']\n",
    "\n",
    "list_S_val = []\n",
    "\n",
    "df_S = pd.DataFrame(index=df.index,columns = list_S)\n",
    "\n",
    "for i_S, str_S in enumerate(list_S):\n",
    "    print(str_S)\n",
    "    method = str_S\n",
    "    cutoff_type = 'p'\n",
    "    cutoff_val = 1.1 ## get all words\n",
    "    df_filter = make_stopwords_filter(df,method=method,cutoff_type=cutoff_type,cutoff_val = cutoff_val)\n",
    "    if method=='MANUAL':\n",
    "        S_tmp = df['manual'].replace(to_replace=1.0,value=0).replace(to_replace=np.nan,value=1)\n",
    "    else:\n",
    "        S_tmp = df_filter['S']\n",
    "    df_S[str_S] = S_tmp"
   ]
  },
  {
   "cell_type": "code",
   "execution_count": 31,
   "metadata": {},
   "outputs": [
    {
     "name": "stdout",
     "output_type": "stream",
     "text": [
      "INFOR INFOR\n",
      "1.0\n",
      "---\n",
      "TFIDF INFOR\n",
      "0.47754893041764973\n",
      "---\n",
      "TFIDF TFIDF\n",
      "0.9999999999999999\n",
      "---\n",
      "MANUAL INFOR\n",
      "-0.03925407354431744\n",
      "---\n",
      "MANUAL TFIDF\n",
      "0.11807048990222224\n",
      "---\n",
      "MANUAL MANUAL\n",
      "1.0\n",
      "---\n",
      "BOTTOM INFOR\n",
      "0.44398868610363845\n",
      "---\n",
      "BOTTOM TFIDF\n",
      "-0.3272636208487102\n",
      "---\n",
      "BOTTOM MANUAL\n",
      "-0.11759773114639797\n",
      "---\n",
      "BOTTOM BOTTOM\n",
      "0.9999999999999999\n",
      "---\n",
      "TOP INFOR\n",
      "-0.44398868610363845\n",
      "---\n",
      "TOP TFIDF\n",
      "0.3272636208487102\n",
      "---\n",
      "TOP MANUAL\n",
      "0.11759773114639797\n",
      "---\n",
      "TOP BOTTOM\n",
      "-0.9999999999999999\n",
      "---\n",
      "TOP TOP\n",
      "0.9999999999999999\n",
      "---\n"
     ]
    }
   ],
   "source": [
    "N_S = len(list_S)\n",
    "arr_C_rank = np.zeros((N_S,N_S))\n",
    "for i1,S1 in enumerate(list_S):\n",
    "    for i2,S2 in enumerate(list_S):\n",
    "        if i1>=i2:\n",
    "            x1 = np.array(df_S[S1])\n",
    "            x2 = np.array(df_S[S2])\n",
    "            print(S1,S2)\n",
    "            C = spearmanr(x1,x2)[0]\n",
    "            print(C)\n",
    "            print('---')\n",
    "            \n",
    "        else:\n",
    "            C = np.nan\n",
    "        arr_C_rank[i1,i2] = C"
   ]
  },
  {
   "cell_type": "markdown",
   "metadata": {},
   "source": [
    "## Jaccard"
   ]
  },
  {
   "cell_type": "code",
   "execution_count": 27,
   "metadata": {},
   "outputs": [],
   "source": [
    "list_S = ['INFOR','TFIDF','MANUAL','BOTTOM','TOP']\n",
    "list_cutoff = [('t',0.1),('t',9),('n',len(df)),('t',5),('n',1000)]\n",
    "list_S_w_sel = []\n",
    "\n",
    "df_S = pd.DataFrame(index=df.index,columns = list_S)\n",
    "\n",
    "for i_S, str_S in enumerate(list_S):\n",
    "    method = str_S\n",
    "    cutoff_type_val =  list_cutoff[i_S]\n",
    "    cutoff_type = cutoff_type_val[0]\n",
    "    cutoff_val = cutoff_type_val[1] \n",
    "    df_filter = make_stopwords_filter(df,method=method,cutoff_type=cutoff_type,cutoff_val = cutoff_val)\n",
    "    w_sel = list(df_filter.index)\n",
    "    list_S_w_sel += [w_sel]"
   ]
  },
  {
   "cell_type": "code",
   "execution_count": 28,
   "metadata": {},
   "outputs": [],
   "source": [
    "def calculate_jaccard_similarity(list_1_raw, list_2_raw):\n",
    "    \n",
    "    list_1 = list(set(list_1_raw))\n",
    "    list_2 = list(set(list_2_raw))\n",
    "\n",
    "    list_1_len = len(list_1)\n",
    "    list_2_len = len(list_2)\n",
    "\n",
    "    union_len = len(set(list_1+list_2))\n",
    "\n",
    "    jaccard_similarity = (list_1_len + list_2_len - union_len)/ union_len\n",
    "\n",
    "    return jaccard_similarity"
   ]
  },
  {
   "cell_type": "code",
   "execution_count": 29,
   "metadata": {},
   "outputs": [
    {
     "name": "stdout",
     "output_type": "stream",
     "text": [
      "INFOR INFOR 1.0\n",
      "TFIDF INFOR 0.22987144548917773\n",
      "TFIDF TFIDF 1.0\n",
      "MANUAL INFOR 0.0015544641232987713\n",
      "MANUAL TFIDF 0.017053728826550166\n",
      "MANUAL MANUAL 1.0\n",
      "BOTTOM INFOR 0.7610515666466284\n",
      "BOTTOM TFIDF 0.10111540331039423\n",
      "BOTTOM MANUAL 6.617476756112895e-05\n",
      "BOTTOM BOTTOM 1.0\n",
      "TOP INFOR 0.0011303507363661681\n",
      "TOP TFIDF 0.035357975612553036\n",
      "TOP MANUAL 0.24507283633247642\n",
      "TOP BOTTOM 0.0\n",
      "TOP TOP 1.0\n"
     ]
    }
   ],
   "source": [
    "N_S = len(list_S)\n",
    "arr_C_jaccard = np.zeros((N_S,N_S))\n",
    "for i1,S1 in enumerate(list_S):\n",
    "    for i2,S2 in enumerate(list_S):\n",
    "        if i1>=i2:\n",
    "            i1_sel = list_S.index(S1)\n",
    "            x1 = list_S_w_sel[i1_sel]\n",
    "            i2_sel = list_S.index(S2)\n",
    "            x2 = list_S_w_sel[i2]\n",
    "            try:\n",
    "                C = calculate_jaccard_similarity(x1,x2)\n",
    "            except ZeroDivisionError:\n",
    "                C = 0\n",
    "            print(S1,S2,C)\n",
    "            \n",
    "        else:\n",
    "            C = np.nan\n",
    "        arr_C_jaccard[i1,i2] = C"
   ]
  },
  {
   "cell_type": "code",
   "execution_count": 38,
   "metadata": {},
   "outputs": [],
   "source": [
    "x_label_list = ['INFOR', 'TFIDF','MANUAL', 'BOTTOM', 'TOP',]\n",
    "y_label_list = ['INFOR', 'TFIDF','MANUAL', 'BOTTOM', 'TOP',]"
   ]
  },
  {
   "cell_type": "code",
   "execution_count": null,
   "metadata": {},
   "outputs": [],
   "source": []
  },
  {
   "cell_type": "code",
   "execution_count": null,
   "metadata": {},
   "outputs": [],
   "source": []
  },
  {
   "cell_type": "code",
   "execution_count": 44,
   "metadata": {},
   "outputs": [],
   "source": [
    "###########\n",
    "## Setup ##\n",
    "###########\n",
    "# number of pt for column in latex-document\n",
    "fig_width_pt = 510/2  # single-column:510, double-column: 246; Get this from LaTeX using \\showthe\\columnwidth\n",
    "inches_per_pt = 1.1/72.27 # Convert pt to inches\n",
    "width_vs_height = (np.sqrt(5)-1.0)/2#(np.sqrt(5)-1.0)/2.0 # Ratio of height/width [(np.sqrt(5)-1.0)/2.0]\n",
    "fig_width = fig_width_pt*inches_per_pt  # width in inches\n",
    "fig_height = width_vs_height*fig_width  # height in inches\n",
    "fig_size = [fig_width,fig_height]\n",
    "\n",
    "# here you can set the parameters of the plot (fontsizes,...) in pt\n",
    "params = {'backend': 'ps',\n",
    "          'axes.titlesize':12,\n",
    "          'axes.labelsize': 10,\n",
    "          'font.size': 8,\n",
    "          'legend.fontsize': 6,\n",
    "#           'figtext.fontsize': 12,\n",
    "          'xtick.labelsize': 10,\n",
    "          'ytick.labelsize': 10,\n",
    "          \n",
    "          'text.usetex': True,\n",
    "          'ps.usedistiller' : 'xpdf',\n",
    "          'figure.figsize': fig_size,\n",
    "          'text.latex.unicode':True,\n",
    "          'text.latex.preamble': [r'\\usepackage{bm}'],\n",
    "          \n",
    "          'xtick.direction':'out',\n",
    "          'ytick.direction':'out',\n",
    "          \n",
    "          'axes.spines.right' : False,\n",
    "          'axes.spines.top' : False\n",
    "         }\n",
    "plt.rcParams.update(params)\n",
    "\n",
    "set_b = 0.22 # set bottom\n",
    "set_l = 0.1 # set left\n",
    "set_r = 0.925 # set right\n",
    "set_hs = 0.2 # set horizontal space\n",
    "set_vs = 0.25 # set vertical space\n",
    "\n",
    "set_ms = 0.0 # set marker size\n",
    "set_lw = 2.5 # set line width\n",
    "set_alpha = 0.8"
   ]
  },
  {
   "cell_type": "code",
   "execution_count": 50,
   "metadata": {},
   "outputs": [
    {
     "name": "stdout",
     "output_type": "stream",
     "text": [
      "[3.881278538812786, 2.39876205679183]\n"
     ]
    },
    {
     "data": {
      "image/png": "[encoded data removed]",
      "text/plain": [
       "<Figure size 279.452x172.711 with 3 Axes>"
      ]
     },
     "metadata": {
      "needs_background": "light"
     },
     "output_type": "display_data"
    }
   ],
   "source": [
    "label_rot = 30\n",
    "\n",
    "fig, axes = plt.subplots(nrows=1, ncols=2 ,figsize=fig_size)\n",
    "print(fig_size)\n",
    "ax1 = axes[0]\n",
    "im1 = ax1.imshow(arr_C_rank , vmin=-1, vmax=1, cmap='RdYlGn')\n",
    "\n",
    "ax1.spines['right'].set_visible(False)\n",
    "ax1.spines['top'].set_visible(False)\n",
    "\n",
    "ax1.set_xticks(np.arange(len(x_label_list)))\n",
    "ax1.set_yticks(np.arange(len(y_label_list)))\n",
    "ax1.set_xticklabels(x_label_list)\n",
    "ax1.set_yticklabels(y_label_list)\n",
    "# ax1.set_xlabel('Spearman\\'s rank correlation', fontsize=12)\n",
    "ax1.set_title('Rank correlation')\n",
    "\n",
    "for i in range(len(x_label_list)):\n",
    "    for j in range(len(y_label_list)):\n",
    "        if i < j:\n",
    "            continue\n",
    "        set_color = 'k'\n",
    "        if abs(arr_C_rank[i, j]) > .7:\n",
    "            set_color = 'w'\n",
    "        text = ax1.text(j, i, \"%.2f\" % arr_C_rank[i, j],\n",
    "                       ha=\"center\", va=\"center\", color=set_color, fontweight='bold')\n",
    "\n",
    "plt.setp(ax1.get_xticklabels(), rotation=label_rot, ha=\"right\", rotation_mode=\"anchor\")\n",
    "\n",
    "\n",
    "\n",
    "\n",
    "\n",
    "\n",
    "ax2 = axes[1]\n",
    "im2 = ax2.imshow(arr_C_jaccard, vmin=-1, vmax=1, cmap='RdYlGn')\n",
    "\n",
    "ax2.spines['right'].set_visible(False)\n",
    "ax2.spines['top'].set_visible(False)\n",
    "\n",
    "ax2.set_xticks(np.arange(len(x_label_list)))\n",
    "ax2.set_yticks(np.arange(len(y_label_list)))\n",
    "\n",
    "ax2.set_xticklabels(x_label_list)\n",
    "ax2.set_yticklabels([])\n",
    "# ax2.set_xlabel('Jaccard index', fontsize=12)\n",
    "ax2.set_title('Jaccard index')\n",
    "\n",
    "\n",
    "for i in range(len(x_label_list)):\n",
    "    for j in range(len(y_label_list)):\n",
    "        if i < j:\n",
    "            continue\n",
    "        set_color = 'k'\n",
    "        if abs(arr_C_jaccard[i, j]) > .7:\n",
    "            set_color = 'w'\n",
    "        text = ax2.text(j, i, \"%.2f\" % arr_C_jaccard[i, j],\n",
    "                       ha=\"center\", va=\"center\", color=set_color, fontweight='bold')\n",
    "\n",
    "plt.setp(ax2.get_xticklabels(), rotation=label_rot, ha=\"right\", rotation_mode=\"anchor\")\n",
    "\n",
    "x_annot = -0.5\n",
    "y_annot = 1.075\n",
    "ax1.annotate(r'\\textbf{C}',xy=(x_annot,y_annot),xycoords = 'axes fraction')\n",
    "\n",
    "\n",
    "# Create colorbar\n",
    "# cbar = ax.figure.colorbar(im1, ax=ax2)\n",
    "\n",
    "cb_ax = fig.add_axes([.93, 0.22, 0.02, 0.575])\n",
    "fig.colorbar(im2, cax=cb_ax, ticks=[-1, -.5, 0, .5, 1])\n",
    "\n",
    "\n",
    "plt.subplots_adjust(wspace=.2,hspace=0.4)\n",
    "\n",
    "\n",
    "\n",
    "fig_name = 'figure_02_c.svg' \n",
    "tmp_folder_file_full_path = os.path.join(os.pardir,'figures', fig_name)\n",
    "fig.savefig(tmp_folder_file_full_path, bbox_inches='tight', transparent=1, dpi=300)"
   ]
  },
  {
   "cell_type": "code",
   "execution_count": null,
   "metadata": {
    "collapsed": true
   },
   "outputs": [],
   "source": []
  }
 ],
 "metadata": {
  "kernelspec": {
   "display_name": "Python 3",
   "language": "python",
   "name": "python3"
  },
  "language_info": {
   "codemirror_mode": {
    "name": "ipython",
    "version": 3
   },
   "file_extension": ".py",
   "mimetype": "text/x-python",
   "name": "python",
   "nbconvert_exporter": "python",
   "pygments_lexer": "ipython3",
   "version": "3.7.3"
  }
 },
 "nbformat": 4,
 "nbformat_minor": 2
}
